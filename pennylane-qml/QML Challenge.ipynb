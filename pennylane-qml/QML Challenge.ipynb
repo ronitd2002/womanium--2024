{
 "cells": [
  {
   "cell_type": "markdown",
   "id": "c2aaf9d5",
   "metadata": {},
   "source": [
    "# QML Challenge - Pennylane"
   ]
  },
  {
   "cell_type": "markdown",
   "id": "9b75ad98",
   "metadata": {},
   "source": [
    "## Challenge Statement\n",
    "\n",
    "In this challenge, you will be provided with a variational quantum circuit in PennyLane that depends on a set of trainable parameters. The circuit outputs a single number as the expectation value of a fixed measurement. Your objective is to find the minimum expectation value this circuit can produce by optimizing its parameters. This will require converting the circuit into a QNode. You can either code up your own optimizer by calculating the gradient of the QNode, or you can use one of the provided PennyLane optimizers."
   ]
  },
  {
   "cell_type": "markdown",
   "id": "df315751",
   "metadata": {},
   "source": [
    "## Challenge code\n",
    "\n",
    "The `variational_circuit` function contains the quantum circuit and has a `params` argument for specifying the trainable parameters. These are the parameters that need to be updated by the optimizer. Additionally, it has a `hamiltonian` argument, which specifies an unknown Hamiltonian that is used as an observable. The parameters describing the Hamiltonian are not trainable!\n",
    "\n",
    "You must fill in the `optimize_circuit` function so that it minimizes the variational circuit. The trainable input to this function is a `params` argument that specifies the initial parameters to use when optimizing the `variational circuit`. The `hamiltonian` argument is the same as for `variational_circuit`, and is needed here since you are expected to call `variational_circuit` within this function. In `optimize_circuit`, you will need to convert the variational circuit into an executable QNode using `qml.QNode()`.\n",
    "\n",
    "In both functions, the Hamiltonian is specified by the problem input data, with each Hamiltonian resulting in a different minimum for the variational circuit."
   ]
  },
  {
   "cell_type": "markdown",
   "id": "65d68c8f",
   "metadata": {},
   "source": [
    "## Input\n",
    "As input to this problem, you are given `hamiltonian` (`np.array(float)`), which is a list of parameters that encode the secret Hamiltonian whose expectation value is to be minimized."
   ]
  },
  {
   "cell_type": "markdown",
   "id": "281a486d",
   "metadata": {},
   "source": [
    "## Output\n",
    "The code will output a `float` corresponding to the minimum expectation value of the secret Hamiltonian, found by optimizing the input parameters in `variational_circuit`."
   ]
  },
  {
   "cell_type": "markdown",
   "id": "3755603b",
   "metadata": {},
   "source": [
    "## Test cases\n",
    "The following **public test** cases are available to you. Note that there are additional **hidden test** cases that we use to verify that your code is valid in full generality."
   ]
  },
  {
   "cell_type": "raw",
   "id": "1220dddb",
   "metadata": {},
   "source": [
    "test_input: [0.863327072347624,0.0167108057202516,0.07991447085492759,0.0854049026262154, 0.0167108057202516,0.8237963773906136,-0.07695947154193797,0.03131548733285282, 0.07991447085492759,-0.07695947154193795,0.8355417021014687,-0.11345916130631205, 0.08540490262621539,0.03131548733285283,-0.11345916130631205,0.758156886827099]\n",
    "expected_output: 0.61745341\n",
    "\n",
    "test_input: [0.32158897156285354,-0.20689268438270836,0.12366748295758379,-0.11737425017261123,-0.20689268438270836,0.7747346055276305,-0.05159966365446514,0.08215539696259792,0.12366748295758379,-0.05159966365446514,0.5769050487087416,0.3853362904758938,-0.11737425017261123,0.08215539696259792,0.3853362904758938,0.3986256655167206]\n",
    "expected_output: 0.00246488"
   ]
  },
  {
   "cell_type": "markdown",
   "id": "f61a7871",
   "metadata": {},
   "source": [
    "If your solution matches the correct one within the given tolerance specified in `check` (in this case it's a `0.05` relative error tolerance), the output will be `\"Success!\"` Otherwise, you will receive an `\"Incorrect\"` prompt.\n",
    "\n",
    "Good luck!"
   ]
  },
  {
   "cell_type": "code",
   "execution_count": 1,
   "id": "d08559f0",
   "metadata": {},
   "outputs": [],
   "source": [
    "import json\n",
    "import pennylane as qml\n",
    "import pennylane.numpy as np"
   ]
  },
  {
   "cell_type": "code",
   "execution_count": 2,
   "id": "4c4e3bcc",
   "metadata": {},
   "outputs": [],
   "source": [
    "WIRES = 2\n",
    "LAYERS = 5\n",
    "NUM_PARAMETERS = LAYERS * WIRES * 3\n",
    "\n",
    "initial_params = np.random.random(NUM_PARAMETERS)"
   ]
  },
  {
   "cell_type": "code",
   "execution_count": 3,
   "id": "1d0dac99",
   "metadata": {},
   "outputs": [],
   "source": [
    "def variational_circuit(params,hamiltonian):\n",
    "    \"\"\"\n",
    "    This is a template variational quantum circuit containing a fixed layout of gates with variable\n",
    "    parameters. To be used as a QNode, it must either be wrapped with the @qml.qnode decorator or\n",
    "    converted using the qml.QNode function.\n",
    "\n",
    "    The output of this circuit is the expectation value of a Hamiltonian, somehow encoded in\n",
    "    the hamiltonian argument\n",
    "\n",
    "    Args:\n",
    "        - params (np.ndarray): An array of optimizable parameters of shape (30,)\n",
    "        - hamiltonian (np.ndarray): An array of real parameters encoding the Hamiltonian\n",
    "        whose expectation value is returned.\n",
    "    \n",
    "    Returns:\n",
    "        (float): The expectation value of the Hamiltonian\n",
    "    \"\"\"\n",
    "    parameters = params.reshape((LAYERS, WIRES, 3))\n",
    "    qml.templates.StronglyEntanglingLayers(parameters, wires=range(WIRES))\n",
    "    return qml.expval(qml.Hermitian(hamiltonian, wires = [0,1]))"
   ]
  },
  {
   "cell_type": "code",
   "execution_count": 4,
   "id": "31b8166a",
   "metadata": {},
   "outputs": [
    {
     "ename": "SyntaxError",
     "evalue": "invalid syntax (2272019419.py, line 17)",
     "output_type": "error",
     "traceback": [
      "\u001b[0;36m  Cell \u001b[0;32mIn[4], line 17\u001b[0;36m\u001b[0m\n\u001b[0;31m    dev = # Initialize the device.\u001b[0m\n\u001b[0m          ^\u001b[0m\n\u001b[0;31mSyntaxError\u001b[0m\u001b[0;31m:\u001b[0m invalid syntax\n"
     ]
    }
   ],
   "source": [
    "def optimize_circuit(params,hamiltonian):\n",
    "    \"\"\"Minimize the variational circuit and return its minimum value.\n",
    "    You should create a device and convert the variational_circuit function \n",
    "    into an executable QNode. \n",
    "    Next, you should minimize the variational circuit using gradient-based \n",
    "    optimization to update the input params. \n",
    "    Return the optimized value of the QNode as a single floating-point number.\n",
    "\n",
    "    Args:\n",
    "        - params (np.ndarray): Input parameters to be optimized, of dimension 30\n",
    "        - hamiltonian (np.ndarray): An array of real parameters encoding the Hamiltonian\n",
    "        whose expectation value you should minimize.\n",
    "    Returns:\n",
    "        float: the value of the optimized QNode\n",
    "    \"\"\"\n",
    "    \n",
    "    dev = # Initialize the device.\n",
    "\n",
    "    circuit = # Instantiate the QNode from variational_circuit.\n",
    "\n",
    "    # Write your code to minimize the circuit\n",
    "\n",
    "    return # Return the value of the minimized QNode"
   ]
  },
  {
   "cell_type": "code",
   "execution_count": 5,
   "id": "f8759874",
   "metadata": {},
   "outputs": [],
   "source": [
    "# These functions are responsible for testing the solution.\n",
    "def run(test_case_input: str) -> str:\n",
    "       \n",
    "    ins = np.array(json.loads(test_case_input), requires_grad = False)\n",
    "    hamiltonian = np.array(ins,float).reshape((2 ** WIRES), (2 ** WIRES))\n",
    "    np.random.seed(1967)\n",
    "    initial_params = np.random.random(NUM_PARAMETERS)\n",
    "    out = str(optimize_circuit(initial_params,hamiltonian))    \n",
    "    \n",
    "    return out"
   ]
  },
  {
   "cell_type": "code",
   "execution_count": 6,
   "id": "79275753",
   "metadata": {},
   "outputs": [],
   "source": [
    "def check(solution_output: str, expected_output: str) -> None:\n",
    "    solution_output = json.loads(solution_output)\n",
    "    expected_output = json.loads(expected_output)\n",
    "    assert np.isclose(solution_output, expected_output, rtol=5e-2)"
   ]
  },
  {
   "cell_type": "code",
   "execution_count": 7,
   "id": "c756719d",
   "metadata": {},
   "outputs": [],
   "source": [
    "test_cases = [\n",
    "    ('[0.863327072347624,0.0167108057202516,0.07991447085492759,0.0854049026262154,0.0167108057202516,0.8237963773906136,-0.07695947154193797,0.03131548733285282,0.07991447085492759,-0.07695947154193795,0.8355417021014687,-0.11345916130631205,0.08540490262621539,0.03131548733285283,-0.11345916130631205,0.758156886827099]', '0.61745341'),\n",
    "    ('[0.32158897156285354,-0.20689268438270836,0.12366748295758379,-0.11737425017261123,-0.20689268438270836,0.7747346055276305,-0.05159966365446514,0.08215539696259792,0.12366748295758379,-0.05159966365446514,0.5769050487087416,0.3853362904758938,-0.11737425017261123,0.08215539696259792,0.3853362904758938,0.3986256655167206]', '0.00246488')\n",
    "]"
   ]
  },
  {
   "cell_type": "code",
   "execution_count": 8,
   "id": "75dbb64c",
   "metadata": {},
   "outputs": [
    {
     "name": "stdout",
     "output_type": "stream",
     "text": [
      "Running test case 0 with input '[0.863327072347624,0.0167108057202516,0.07991447085492759,0.0854049026262154,0.0167108057202516,0.8237963773906136,-0.07695947154193797,0.03131548733285282,0.07991447085492759,-0.07695947154193795,0.8355417021014687,-0.11345916130631205,0.08540490262621539,0.03131548733285283,-0.11345916130631205,0.758156886827099]'...\n",
      "Runtime Error. name 'optimize_circuit' is not defined\n",
      "Running test case 1 with input '[0.32158897156285354,-0.20689268438270836,0.12366748295758379,-0.11737425017261123,-0.20689268438270836,0.7747346055276305,-0.05159966365446514,0.08215539696259792,0.12366748295758379,-0.05159966365446514,0.5769050487087416,0.3853362904758938,-0.11737425017261123,0.08215539696259792,0.3853362904758938,0.3986256655167206]'...\n",
      "Runtime Error. name 'optimize_circuit' is not defined\n"
     ]
    }
   ],
   "source": [
    "# This will run the public test cases locally\n",
    "for i, (input_, expected_output) in enumerate(test_cases):\n",
    "    print(f\"Running test case {i} with input '{input_}'...\")\n",
    "\n",
    "    try:\n",
    "        output = run(input_)\n",
    "\n",
    "    except Exception as exc:\n",
    "        print(f\"Runtime Error. {exc}\")\n",
    "\n",
    "    else:\n",
    "        if message := check(output, expected_output):\n",
    "            print(f\"Wrong Answer. Have: '{output}'. Want: '{expected_output}'.\")\n",
    "\n",
    "        else:\n",
    "            print(\"Correct!\")"
   ]
  },
  {
   "cell_type": "code",
   "execution_count": null,
   "id": "633cce51",
   "metadata": {},
   "outputs": [],
   "source": []
  }
 ],
 "metadata": {
  "kernelspec": {
   "display_name": "cirq",
   "language": "python",
   "name": "cirq"
  },
  "language_info": {
   "codemirror_mode": {
    "name": "ipython",
    "version": 3
   },
   "file_extension": ".py",
   "mimetype": "text/x-python",
   "name": "python",
   "nbconvert_exporter": "python",
   "pygments_lexer": "ipython3",
   "version": "3.12.3"
  }
 },
 "nbformat": 4,
 "nbformat_minor": 5
}
