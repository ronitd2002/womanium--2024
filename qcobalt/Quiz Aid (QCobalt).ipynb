{
 "cells": [
  {
   "cell_type": "code",
   "execution_count": 14,
   "id": "df47cd35",
   "metadata": {},
   "outputs": [
    {
     "data": {
      "text/plain": [
       "array([[0., 0., 0., 0., 0.],\n",
       "       [0., 0., 0., 0., 0.],\n",
       "       [0., 0., 0., 0., 0.],\n",
       "       [0., 0., 0., 0., 0.],\n",
       "       [0., 0., 0., 0., 0.]])"
      ]
     },
     "execution_count": 14,
     "metadata": {},
     "output_type": "execute_result"
    }
   ],
   "source": [
    "import numpy as np\n",
    "QUBO = np.zeros((5,5))\n",
    "QUBO"
   ]
  },
  {
   "cell_type": "code",
   "execution_count": 18,
   "id": "4ffb4646",
   "metadata": {},
   "outputs": [
    {
     "data": {
      "text/plain": [
       "array([[-2.,  2.,  2.,  0.,  0.],\n",
       "       [ 0., -1.,  0.,  0.,  0.],\n",
       "       [ 0.,  0., -3.,  2.,  2.],\n",
       "       [ 0.,  0.,  0., -2.,  2.],\n",
       "       [ 0.,  0.,  0.,  0., -2.]])"
      ]
     },
     "execution_count": 18,
     "metadata": {},
     "output_type": "execute_result"
    }
   ],
   "source": [
    "QUBO[0][0] = -2\n",
    "QUBO[1][1] = -1\n",
    "QUBO[2][2] = -3\n",
    "QUBO[3][3] = -2\n",
    "QUBO[4][4] = -2\n",
    "QUBO[0][1] = 2\n",
    "QUBO[0][2] = 2\n",
    "QUBO[2][3] = 2\n",
    "QUBO[2][4] = 2\n",
    "QUBO[3][4] = 2\n",
    "QUBO"
   ]
  },
  {
   "cell_type": "code",
   "execution_count": 19,
   "id": "a7adcf70",
   "metadata": {},
   "outputs": [],
   "source": [
    "%run qubo_functions.py"
   ]
  },
  {
   "cell_type": "code",
   "execution_count": 20,
   "id": "ac3e2ee7",
   "metadata": {},
   "outputs": [
    {
     "data": {
      "text/plain": [
       "'The vector (1, 0, 0, 1, 1) minimizes the objective function to a value of -4.0.'"
      ]
     },
     "execution_count": 20,
     "metadata": {},
     "output_type": "execute_result"
    }
   ],
   "source": [
    "qubo_solver(QUBO)"
   ]
  },
  {
   "cell_type": "code",
   "execution_count": null,
   "id": "9551306f",
   "metadata": {},
   "outputs": [],
   "source": []
  }
 ],
 "metadata": {
  "kernelspec": {
   "display_name": "cirq",
   "language": "python",
   "name": "cirq"
  },
  "language_info": {
   "codemirror_mode": {
    "name": "ipython",
    "version": 3
   },
   "file_extension": ".py",
   "mimetype": "text/x-python",
   "name": "python",
   "nbconvert_exporter": "python",
   "pygments_lexer": "ipython3",
   "version": "3.12.3"
  }
 },
 "nbformat": 4,
 "nbformat_minor": 5
}
