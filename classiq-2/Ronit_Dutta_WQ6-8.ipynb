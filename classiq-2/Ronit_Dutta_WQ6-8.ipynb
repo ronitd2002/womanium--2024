{
 "cells": [
  {
   "cell_type": "markdown",
   "id": "f97d08c8-e089-4c52-9b9f-14ad6734d098",
   "metadata": {},
   "source": [
    "# Assignment 1\n",
    "\n",
    "Code the algorithm of the Hadamard test that we covered in class using the Python SDK (below is a print screen of the Qmod for your convenience). Execute it from the SDK using 1,000 , 2,000 , 4,000 , 8,000 and 16,000 shots, and for each job calculate the (real part of the) expectation value using the formula $Re\\{\\bra{0}U_{QFT} \\ket{0}\\} = 2P_0 - 1$. Plot a graph of the expectation value as a function of the number of shots. Add the theoretical value to the graph. Explain the results. "
   ]
  },
  {
   "cell_type": "code",
   "execution_count": 1,
   "id": "e2dc46d2-97a6-426c-bc48-721267d3d526",
   "metadata": {},
   "outputs": [],
   "source": [
    "from classiq import *\n",
    "from classiq.execution import ExecutionPreferences"
   ]
  },
  {
   "cell_type": "code",
   "execution_count": 2,
   "id": "d8f15833-8368-4dd2-b5d1-fc3f9f881e01",
   "metadata": {},
   "outputs": [],
   "source": [
    "# define main function\n",
    "\n",
    "@qfunc\n",
    "def main(\n",
    "    expectation_value: Output[QBit],\n",
    "    psi: Output[QArray],\n",
    "    test: Output[QBit]\n",
    ") -> None:\n",
    "    \n",
    "    # allocate the first qubit (acts as control for QFT)\n",
    "    allocate(1, expectation_value)\n",
    "\n",
    "    # define and allocate psi qubit for 4 qubit qft\n",
    "    allocate(4, psi)\n",
    "\n",
    "    # append H, CQFT, H to circuit\n",
    "    swap_test(state1=expectation_value, state2=psi, test=test)"
   ]
  },
  {
   "cell_type": "code",
   "execution_count": 3,
   "id": "fb1dec90-3e5e-4d00-8f4c-a738ff7a22f2",
   "metadata": {},
   "outputs": [
    {
     "ename": "KeyError",
     "evalue": "'0'",
     "output_type": "error",
     "traceback": [
      "\u001b[1;31m---------------------------------------------------------------------------\u001b[0m",
      "\u001b[1;31mKeyError\u001b[0m                                  Traceback (most recent call last)",
      "Cell \u001b[1;32mIn[3], line 16\u001b[0m\n\u001b[0;32m     13\u001b[0m res \u001b[38;5;241m=\u001b[39m execute(qprog)\u001b[38;5;241m.\u001b[39mresult()\n\u001b[0;32m     15\u001b[0m \u001b[38;5;66;03m# calculate probability of zero from the counts obtained\u001b[39;00m\n\u001b[1;32m---> 16\u001b[0m prob_0 \u001b[38;5;241m=\u001b[39m res[\u001b[38;5;241m0\u001b[39m]\u001b[38;5;241m.\u001b[39mvalue\u001b[38;5;241m.\u001b[39mcounts[\u001b[38;5;124m'\u001b[39m\u001b[38;5;124m0\u001b[39m\u001b[38;5;124m'\u001b[39m]\u001b[38;5;241m/\u001b[39mshots\n\u001b[0;32m     18\u001b[0m \u001b[38;5;66;03m# Re(<psi | U_QFT | psi>) = 2*P(0) - 1\u001b[39;00m\n\u001b[0;32m     19\u001b[0m re_expectation_value \u001b[38;5;241m=\u001b[39m \u001b[38;5;241m2\u001b[39m\u001b[38;5;241m*\u001b[39mprob_0 \u001b[38;5;241m-\u001b[39m \u001b[38;5;241m1\u001b[39m\n",
      "\u001b[1;31mKeyError\u001b[0m: '0'"
     ]
    }
   ],
   "source": [
    "shots_list = [1000, 2000, 4000, 8000, 16000]\n",
    "results = []\n",
    "\n",
    "for shots in shots_list:\n",
    "    \n",
    "    model = create_model(main)\n",
    "\n",
    "    # parametrize execution with 'shots' number of shots and then synthesize\n",
    "    model = set_execution_preferences(model, execution_preferences=ExecutionPreferences(num_shots=shots))\n",
    "    qprog = synthesize(model)\n",
    "\n",
    "    # execute program\n",
    "    res = execute(qprog).result()\n",
    "\n",
    "    # calculate probability of zero from the counts obtained\n",
    "    prob_0 = res[0].value.counts['0']/shots\n",
    "\n",
    "    # Re(<psi | U_QFT | psi>) = 2*P(0) - 1\n",
    "    re_expectation_value = 2*prob_0 - 1\n",
    "    results.append(re_expectation_value)"
   ]
  },
  {
   "cell_type": "code",
   "execution_count": null,
   "id": "d664b335-16a6-405b-8330-6f8d79691c02",
   "metadata": {},
   "outputs": [],
   "source": [
    "results"
   ]
  },
  {
   "cell_type": "markdown",
   "id": "c3386b0e-5e58-4d56-a843-b91de708048b",
   "metadata": {},
   "source": [
    "QFT on one qubit is the same as Hadamard Transform  \n",
    "We defined our $\\psi$ ket as $|\\psi> = 0$  \n",
    "So, $<\\psi|U_{QFT}|\\psi> = <0|H|0> = 1/\\sqrt{2}$"
   ]
  },
  {
   "cell_type": "code",
   "execution_count": null,
   "id": "e4e94b51-6856-4bb8-b311-760692a0303e",
   "metadata": {},
   "outputs": [],
   "source": [
    "# set theoretical value\n",
    "theoretical = np.ones(5)/np.sqrt(2)\n",
    "\n",
    "# plot the data\n",
    "plt.plot(shots_list, results, color = 'red', label = 'experimental')\n",
    "plt.plot(shots_list, theoretical, color = 'blue', label = 'theoretical')\n",
    "plt.xlabel('Shots')\n",
    "plt.ylabel('Expectation Value')\n",
    "plt.legend()\n",
    "plt.show()"
   ]
  },
  {
   "cell_type": "markdown",
   "id": "62fa59df-c119-4d3b-8fe7-7424735e326e",
   "metadata": {},
   "source": [
    "We can see that the experimental value has some amount of noise in lower number of shots, and gets closer to the theoretical value as the number of shots increase"
   ]
  }
 ],
 "metadata": {
  "kernelspec": {
   "display_name": "Python 3 (ipykernel)",
   "language": "python",
   "name": "python3"
  },
  "language_info": {
   "codemirror_mode": {
    "name": "ipython",
    "version": 3
   },
   "file_extension": ".py",
   "mimetype": "text/x-python",
   "name": "python",
   "nbconvert_exporter": "python",
   "pygments_lexer": "ipython3",
   "version": "3.11.7"
  }
 },
 "nbformat": 4,
 "nbformat_minor": 5
}
