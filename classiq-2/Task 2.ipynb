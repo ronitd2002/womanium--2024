{
 "cells": [
  {
   "cell_type": "markdown",
   "id": "a64fe4fe",
   "metadata": {},
   "source": [
    "### Assignment \n",
    "\n",
    "Apply the non-unitary matrix  $ \n",
    "\\begin{bmatrix}\n",
    "1 & 0\\\\\n",
    "0 & 0\n",
    "\\end{bmatrix}\n",
    "$\n",
    "on a 1-qubit quantum state which has a 0.3 probability being measured in the zero state |0〉."
   ]
  },
  {
   "cell_type": "code",
   "execution_count": null,
   "id": "47bc60f1",
   "metadata": {},
   "outputs": [],
   "source": []
  }
 ],
 "metadata": {
  "kernelspec": {
   "display_name": "cirq",
   "language": "python",
   "name": "cirq"
  },
  "language_info": {
   "codemirror_mode": {
    "name": "ipython",
    "version": 3
   },
   "file_extension": ".py",
   "mimetype": "text/x-python",
   "name": "python",
   "nbconvert_exporter": "python",
   "pygments_lexer": "ipython3",
   "version": "3.12.3"
  }
 },
 "nbformat": 4,
 "nbformat_minor": 5
}
