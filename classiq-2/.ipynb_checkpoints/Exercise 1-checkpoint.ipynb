{
 "cells": [
  {
   "cell_type": "markdown",
   "id": "daea482b",
   "metadata": {},
   "source": [
    "### Exercise:\n",
    "\n",
    "Adapt the phase kickback example from the IDE, to create a quantum algorithm that flips the phases of the values x = 0.5 and x = 0.75 for an input state of 3 qubits that is in a superposition of the values [0, 0.125, 0.25, 0.375, 0.5, 0.625, 0.75, 0.875]. You should use the allocate_numLinks to an external site. function. Execute the algorithm with the state vector simulator to verify your algorithm.\n",
    "\n",
    "Note: At the moment, the results of the state vector simulator are not interpreted in terms of decimal values. In order to interpret them, you should execute also with the default simulator, and relate the qubits ordering from the quantum program to the measured bit strings (the order is inverted such that qubit 0 is the left-most bit)."
   ]
  },
  {
   "cell_type": "code",
   "execution_count": null,
   "id": "a2da998a",
   "metadata": {},
   "outputs": [],
   "source": []
  }
 ],
 "metadata": {
  "kernelspec": {
   "display_name": "cirq",
   "language": "python",
   "name": "cirq"
  },
  "language_info": {
   "codemirror_mode": {
    "name": "ipython",
    "version": 3
   },
   "file_extension": ".py",
   "mimetype": "text/x-python",
   "name": "python",
   "nbconvert_exporter": "python",
   "pygments_lexer": "ipython3",
   "version": "3.12.3"
  }
 },
 "nbformat": 4,
 "nbformat_minor": 5
}
