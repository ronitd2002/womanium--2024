{
 "cells": [
  {
   "cell_type": "markdown",
   "id": "0f6aab3e",
   "metadata": {},
   "source": [
    "## Assignment:\n",
    "\n",
    "Code the algorithm of the Hadamard test that we covered in class using the Python SDK (below is a print screen of the Qmod for your convenience). Execute it from the SDK using 1,000 , 2,000 , 4,000 , 8,000 and 16,000 shots, and for each job calculate the (real part of the) expectation value using the formula.\n",
    "\n",
    "\n",
    "Plot a graph of the expectation value as a function of the number of shots. Add the theoretical value to the graph. Explain the results. "
   ]
  },
  {
   "cell_type": "code",
   "execution_count": null,
   "id": "e687188f",
   "metadata": {},
   "outputs": [],
   "source": []
  }
 ],
 "metadata": {
  "kernelspec": {
   "display_name": "cirq",
   "language": "python",
   "name": "cirq"
  },
  "language_info": {
   "codemirror_mode": {
    "name": "ipython",
    "version": 3
   },
   "file_extension": ".py",
   "mimetype": "text/x-python",
   "name": "python",
   "nbconvert_exporter": "python",
   "pygments_lexer": "ipython3",
   "version": "3.12.3"
  }
 },
 "nbformat": 4,
 "nbformat_minor": 5
}
