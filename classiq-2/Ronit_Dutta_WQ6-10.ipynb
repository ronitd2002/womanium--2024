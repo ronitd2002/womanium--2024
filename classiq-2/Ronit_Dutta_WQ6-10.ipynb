{
 "cells": [
  {
   "cell_type": "markdown",
   "id": "ee0eefbb-b9fe-43fe-8b8d-aba1c2213ada",
   "metadata": {},
   "source": [
    "# Classiq 2.0 Womanium Challenge\n",
    "\n",
    "### Apply the non-unitary matrix on a 1-qubit quantum state which has a 0.3 probability being measured in the zero state $\\ket{0}$.\n",
    "\n",
    "#### lcu operator matrix =>[[1,0],[0,0]]\n",
    "\n",
    "##### breakdown sum = norm * (identity + Z)\n",
    "init state = RY(theta = 2 * np.arccos(np.sqrt(0.3))) * $\\ket{0}$"
   ]
  },
  {
   "cell_type": "code",
   "execution_count": 13,
   "id": "99da5dc4-bc66-4125-8fab-a10a605c99ce",
   "metadata": {},
   "outputs": [],
   "source": [
    "from classiq import *"
   ]
  },
  {
   "cell_type": "code",
   "execution_count": 14,
   "id": "04c981a7-6ddf-40e7-96cf-e47501c5b331",
   "metadata": {},
   "outputs": [],
   "source": [
    "import numpy as np"
   ]
  },
  {
   "cell_type": "markdown",
   "id": "09fb44f0-af7c-4a04-9946-499a6914c25a",
   "metadata": {},
   "source": [
    "![classiq lcu image](classiq_docs.png)\n",
    "###### classiq lcu docs sample circuit"
   ]
  },
  {
   "cell_type": "code",
   "execution_count": 15,
   "id": "7833f636-856d-439d-b6a4-a2b0d3a9130d",
   "metadata": {},
   "outputs": [],
   "source": [
    "@qfunc\n",
    "def lcu_controllers(controller: QNum, psi: QNum):\n",
    "    #theta = 2 * np.arccos(np.sqrt(0.3))\n",
    "    #control(ctrl=controller == 0, operand=lambda: apply_to_all(lambda q: RY(theta, q), psi))\n",
    "    control(ctrl=controller == 0, operand=lambda: apply_to_all(IDENTITY, psi))\n",
    "    control(ctrl=controller == 1, operand=lambda: apply_to_all(Z, psi))"
   ]
  },
  {
   "cell_type": "code",
   "execution_count": 16,
   "id": "a25aa74c-57e9-400e-9086-3ac6c4aa2424",
   "metadata": {},
   "outputs": [],
   "source": [
    "@qfunc\n",
    "def main(controller: Output[QNum], psi: Output[QNum]):\n",
    "\n",
    "    # Defining the error bound and probability distribution\n",
    "    error_bound = 0.01\n",
    "    controller_probabilities = [0.5, 0.5, 0, 0]\n",
    "\n",
    "    # Allocating the target and control qubits, respectively\n",
    "    allocate(1, psi)\n",
    "    allocate(2, controller)\n",
    "    \n",
    "    # apply init rotation\n",
    "    theta = 2 * np.arccos(np.sqrt(0.3))\n",
    "    apply_to_all(lambda q: RY(theta, q), psi)\n",
    "    \n",
    "    # Executing the Within-Apply function, the SELECT function is defined by lcu_controllers and the PREPARE function is defined by the inplace_prepare_state function.\n",
    "    within_apply(\n",
    "        compute=lambda: inplace_prepare_state(\n",
    "            probabilities=controller_probabilities, bound=error_bound, target=controller\n",
    "        ),\n",
    "        action=lambda: lcu_controllers(controller, psi),\n",
    "    )"
   ]
  },
  {
   "cell_type": "code",
   "execution_count": 17,
   "id": "0ebbfd01-1d3e-40dc-aa8c-dc6d703ca613",
   "metadata": {},
   "outputs": [],
   "source": [
    "quantum_model = create_model(main)\n",
    "quantum_program = synthesize(quantum_model)"
   ]
  },
  {
   "cell_type": "code",
   "execution_count": 18,
   "id": "8c6cc7a2-6b71-4f1c-869f-949c4f4242e6",
   "metadata": {},
   "outputs": [
    {
     "name": "stdout",
     "output_type": "stream",
     "text": [
      "Opening: https://platform.classiq.io/circuit/57fc7408-eda3-48d2-9755-0013f5fdd6c2?version=0.43.3\n"
     ]
    }
   ],
   "source": [
    "show(quantum_program)"
   ]
  },
  {
   "cell_type": "code",
   "execution_count": null,
   "id": "79003b9a-6157-4e57-be63-fb249c8ad75e",
   "metadata": {},
   "outputs": [],
   "source": []
  }
 ],
 "metadata": {
  "kernelspec": {
   "display_name": "Python 3 (ipykernel)",
   "language": "python",
   "name": "python3"
  },
  "language_info": {
   "codemirror_mode": {
    "name": "ipython",
    "version": 3
   },
   "file_extension": ".py",
   "mimetype": "text/x-python",
   "name": "python",
   "nbconvert_exporter": "python",
   "pygments_lexer": "ipython3",
   "version": "3.11.7"
  }
 },
 "nbformat": 4,
 "nbformat_minor": 5
}
