{
 "cells": [
  {
   "cell_type": "markdown",
   "metadata": {
    "deletable": false,
    "editable": false,
    "nbgrader": {
     "cell_type": "markdown",
     "checksum": "ac08d7ea268ce6a20a0e0a0d19c24352",
     "grade": false,
     "grade_id": "cell-33da3167fca0d468",
     "locked": true,
     "schema_version": 3,
     "solution": false,
     "task": false
    }
   },
   "source": [
    "# Homework - Grover MaxCut\n",
    "\n",
    "The places where you have enter code are marked with `# YOUR CODE HERE`."
   ]
  },
  {
   "cell_type": "code",
   "execution_count": 1,
   "metadata": {},
   "outputs": [],
   "source": [
    "import cirq\n",
    "from cirq import H, X, Y, Z, CX, inverse"
   ]
  },
  {
   "cell_type": "markdown",
   "metadata": {
    "deletable": false,
    "editable": false,
    "nbgrader": {
     "cell_type": "markdown",
     "checksum": "3472598b6fdd1d56b50a9706c01827f8",
     "grade": false,
     "grade_id": "cell-d981eeb5458c0744",
     "locked": true,
     "schema_version": 3,
     "solution": false,
     "task": false
    }
   },
   "source": [
    "## Question 1 (4 points)\n",
    "\n",
    "Write a function, `oracle010`, that implements an oracle that marks the state $|010 \\rangle$. The function `oracle010` has\n",
    "\n",
    "* input: `qq`, a 3-qubit register \n",
    "* returns: `None`\n",
    "\n",
    "The function should append a sequence of gates to `qq` to mark the state $|010\\rangle$ only. Don't append any measurements to `qq`.\n",
    "\n",
    "To help you test the function, we have provided the `grover_diffusion` and `grover` functions."
   ]
  },
  {
   "cell_type": "code",
   "execution_count": 47,
   "metadata": {
    "deletable": false,
    "nbgrader": {
     "cell_type": "code",
     "checksum": "3234c674937c9ea97ec27157e9062acf",
     "grade": false,
     "grade_id": "cell-a08e811a0e1777c7",
     "locked": false,
     "schema_version": 3,
     "solution": true,
     "task": false
    }
   },
   "outputs": [],
   "source": [
    "def oracle010(qq):\n",
    "    # YOUR CODE HERE\n",
    "    import numpy as np\n",
    "    matrix = np.eye(8)\n",
    "    matrix[2][2] = -1\n",
    "    \n",
    "    circuit = cirq.Circuit()\n",
    "    qubits = cirq.LineQubit.range(3)"
   ]
  },
  {
   "cell_type": "code",
   "execution_count": 48,
   "metadata": {},
   "outputs": [
    {
     "ename": "TypeError",
     "evalue": "Not an Operation or Iterable: <class 'NoneType'> None",
     "output_type": "error",
     "traceback": [
      "\u001b[0;31m---------------------------------------------------------------------------\u001b[0m",
      "\u001b[0;31mTypeError\u001b[0m                                 Traceback (most recent call last)",
      "Cell \u001b[0;32mIn[48], line 4\u001b[0m\n\u001b[1;32m      2\u001b[0m qqTest \u001b[38;5;241m=\u001b[39m cirq\u001b[38;5;241m.\u001b[39mLineQubit\u001b[38;5;241m.\u001b[39mrange(\u001b[38;5;241m3\u001b[39m)\n\u001b[1;32m      3\u001b[0m circuit \u001b[38;5;241m=\u001b[39m cirq\u001b[38;5;241m.\u001b[39mCircuit()\n\u001b[0;32m----> 4\u001b[0m \u001b[43mcircuit\u001b[49m\u001b[38;5;241;43m.\u001b[39;49m\u001b[43mappend\u001b[49m\u001b[43m(\u001b[49m\u001b[43moracle010\u001b[49m\u001b[43m(\u001b[49m\u001b[43mqqTest\u001b[49m\u001b[43m)\u001b[49m\u001b[43m)\u001b[49m\n\u001b[1;32m      5\u001b[0m circuit\n",
      "File \u001b[0;32m~/.local/lib/python3.12/site-packages/cirq/circuits/circuit.py:2431\u001b[0m, in \u001b[0;36mCircuit.append\u001b[0;34m(self, moment_or_operation_tree, strategy)\u001b[0m\n\u001b[1;32m   2418\u001b[0m \u001b[38;5;28;01mdef\u001b[39;00m \u001b[38;5;21mappend\u001b[39m(\n\u001b[1;32m   2419\u001b[0m     \u001b[38;5;28mself\u001b[39m,\n\u001b[1;32m   2420\u001b[0m     moment_or_operation_tree: Union[\u001b[38;5;124m'\u001b[39m\u001b[38;5;124mcirq.Moment\u001b[39m\u001b[38;5;124m'\u001b[39m, \u001b[38;5;124m'\u001b[39m\u001b[38;5;124mcirq.OP_TREE\u001b[39m\u001b[38;5;124m'\u001b[39m],\n\u001b[1;32m   2421\u001b[0m     strategy: \u001b[38;5;124m'\u001b[39m\u001b[38;5;124mcirq.InsertStrategy\u001b[39m\u001b[38;5;124m'\u001b[39m \u001b[38;5;241m=\u001b[39m InsertStrategy\u001b[38;5;241m.\u001b[39mEARLIEST,\n\u001b[1;32m   2422\u001b[0m ) \u001b[38;5;241m-\u001b[39m\u001b[38;5;241m>\u001b[39m \u001b[38;5;28;01mNone\u001b[39;00m:\n\u001b[1;32m   2423\u001b[0m \u001b[38;5;250m    \u001b[39m\u001b[38;5;124;03m\"\"\"Appends operations onto the end of the circuit.\u001b[39;00m\n\u001b[1;32m   2424\u001b[0m \n\u001b[1;32m   2425\u001b[0m \u001b[38;5;124;03m    Moments within the operation tree are appended intact.\u001b[39;00m\n\u001b[0;32m   (...)\u001b[0m\n\u001b[1;32m   2429\u001b[0m \u001b[38;5;124;03m        strategy: How to pick/create the moment to put operations into.\u001b[39;00m\n\u001b[1;32m   2430\u001b[0m \u001b[38;5;124;03m    \"\"\"\u001b[39;00m\n\u001b[0;32m-> 2431\u001b[0m     \u001b[38;5;28;43mself\u001b[39;49m\u001b[38;5;241;43m.\u001b[39;49m\u001b[43minsert\u001b[49m\u001b[43m(\u001b[49m\u001b[38;5;28;43mlen\u001b[39;49m\u001b[43m(\u001b[49m\u001b[38;5;28;43mself\u001b[39;49m\u001b[38;5;241;43m.\u001b[39;49m\u001b[43m_moments\u001b[49m\u001b[43m)\u001b[49m\u001b[43m,\u001b[49m\u001b[43m \u001b[49m\u001b[43mmoment_or_operation_tree\u001b[49m\u001b[43m,\u001b[49m\u001b[43m \u001b[49m\u001b[43mstrategy\u001b[49m\u001b[43m)\u001b[49m\n",
      "File \u001b[0;32m~/.local/lib/python3.12/site-packages/cirq/circuits/circuit.py:2145\u001b[0m, in \u001b[0;36mCircuit.insert\u001b[0;34m(self, index, moment_or_operation_tree, strategy)\u001b[0m\n\u001b[1;32m   2143\u001b[0m \u001b[38;5;66;03m# limit index to 0..len(self._moments), also deal with indices smaller 0\u001b[39;00m\n\u001b[1;32m   2144\u001b[0m k \u001b[38;5;241m=\u001b[39m \u001b[38;5;28mmax\u001b[39m(\u001b[38;5;28mmin\u001b[39m(index \u001b[38;5;28;01mif\u001b[39;00m index \u001b[38;5;241m>\u001b[39m\u001b[38;5;241m=\u001b[39m \u001b[38;5;241m0\u001b[39m \u001b[38;5;28;01melse\u001b[39;00m \u001b[38;5;28mlen\u001b[39m(\u001b[38;5;28mself\u001b[39m\u001b[38;5;241m.\u001b[39m_moments) \u001b[38;5;241m+\u001b[39m index, \u001b[38;5;28mlen\u001b[39m(\u001b[38;5;28mself\u001b[39m\u001b[38;5;241m.\u001b[39m_moments)), \u001b[38;5;241m0\u001b[39m)\n\u001b[0;32m-> 2145\u001b[0m \u001b[38;5;28;01mfor\u001b[39;00m moment_or_op \u001b[38;5;129;01min\u001b[39;00m \u001b[38;5;28;43mlist\u001b[39;49m\u001b[43m(\u001b[49m\u001b[43mops\u001b[49m\u001b[38;5;241;43m.\u001b[39;49m\u001b[43mflatten_to_ops_or_moments\u001b[49m\u001b[43m(\u001b[49m\u001b[43mmoment_or_operation_tree\u001b[49m\u001b[43m)\u001b[49m\u001b[43m)\u001b[49m:\n\u001b[1;32m   2146\u001b[0m     \u001b[38;5;28;01mif\u001b[39;00m \u001b[38;5;28misinstance\u001b[39m(moment_or_op, Moment):\n\u001b[1;32m   2147\u001b[0m         \u001b[38;5;28mself\u001b[39m\u001b[38;5;241m.\u001b[39m_moments\u001b[38;5;241m.\u001b[39minsert(k, moment_or_op)\n",
      "File \u001b[0;32m~/.local/lib/python3.12/site-packages/cirq/ops/op_tree.py:136\u001b[0m, in \u001b[0;36mflatten_to_ops_or_moments\u001b[0;34m(root)\u001b[0m\n\u001b[1;32m    134\u001b[0m         \u001b[38;5;28;01myield from\u001b[39;00m flatten_to_ops_or_moments(subtree)\n\u001b[1;32m    135\u001b[0m \u001b[38;5;28;01melse\u001b[39;00m:\n\u001b[0;32m--> 136\u001b[0m     \u001b[43m_bad_op_tree\u001b[49m\u001b[43m(\u001b[49m\u001b[43mroot\u001b[49m\u001b[43m)\u001b[49m\n",
      "File \u001b[0;32m~/.local/lib/python3.12/site-packages/cirq/ops/op_tree.py:191\u001b[0m, in \u001b[0;36m_bad_op_tree\u001b[0;34m(root)\u001b[0m\n\u001b[1;32m    190\u001b[0m \u001b[38;5;28;01mdef\u001b[39;00m \u001b[38;5;21m_bad_op_tree\u001b[39m(root: OP_TREE) \u001b[38;5;241m-\u001b[39m\u001b[38;5;241m>\u001b[39m NoReturn:\n\u001b[0;32m--> 191\u001b[0m     \u001b[38;5;28;01mraise\u001b[39;00m \u001b[38;5;167;01mTypeError\u001b[39;00m(\u001b[38;5;124mf\u001b[39m\u001b[38;5;124m'\u001b[39m\u001b[38;5;124mNot an Operation or Iterable: \u001b[39m\u001b[38;5;132;01m{\u001b[39;00m\u001b[38;5;28mtype\u001b[39m(root)\u001b[38;5;132;01m}\u001b[39;00m\u001b[38;5;124m \u001b[39m\u001b[38;5;132;01m{\u001b[39;00mroot\u001b[38;5;132;01m}\u001b[39;00m\u001b[38;5;124m'\u001b[39m)\n",
      "\u001b[0;31mTypeError\u001b[0m: Not an Operation or Iterable: <class 'NoneType'> None"
     ]
    }
   ],
   "source": [
    "# visualize your implemented gates\n",
    "qqTest = cirq.LineQubit.range(3)\n",
    "circuit = cirq.Circuit()\n",
    "circuit.append(oracle010(qqTest))\n",
    "circuit"
   ]
  },
  {
   "cell_type": "code",
   "execution_count": 6,
   "metadata": {},
   "outputs": [],
   "source": [
    "# To check your solution, we need some to implement grover\n",
    "def grover_diffusion(qq,n):\n",
    "    yield H.on_each(*qq)\n",
    "    yield X.on_each(*qq)\n",
    "    yield Z(qq[n-1]).controlled_by(*(qq[0:n-1]))\n",
    "    yield X.on_each(*qq)\n",
    "    yield H.on_each(*qq)"
   ]
  },
  {
   "cell_type": "code",
   "execution_count": null,
   "metadata": {},
   "outputs": [],
   "source": [
    "def grover(trials_number):\n",
    "    n=3\n",
    "    qq = cirq.LineQubit.range(n)\n",
    "    circuit = cirq.Circuit()\n",
    "    circuit.append(H.on_each(*qq))  \n",
    "\n",
    "    for i in range(2):\n",
    "        circuit.append(oracle010(qq))\n",
    "        circuit.append(grover_diffusion(qq,n))\n",
    "    circuit.append(cirq.measure(*qq, key='result'))\n",
    "\n",
    "    # determine the statistics of the measurements\n",
    "    s = cirq.Simulator() \n",
    "    samples = s.run(circuit, repetitions=trials_number)\n",
    "\n",
    "    def bitstring(bits):\n",
    "        return \"\".join(str(int(b)) for b in bits)\n",
    "\n",
    "    counts = samples.histogram(key=\"result\",fold_func=bitstring)\n",
    "    print(counts)\n",
    "    return counts.get('010')"
   ]
  },
  {
   "cell_type": "code",
   "execution_count": null,
   "metadata": {},
   "outputs": [],
   "source": [
    "# run grover to test if your function gives the right answer\n",
    "grover(100)"
   ]
  },
  {
   "cell_type": "code",
   "execution_count": null,
   "metadata": {
    "deletable": false,
    "editable": false,
    "nbgrader": {
     "cell_type": "code",
     "checksum": "cf2c533cdb00d2a3feebe35eda382c3e",
     "grade": true,
     "grade_id": "cell-c892138426ad8ca2",
     "locked": true,
     "points": 4,
     "schema_version": 3,
     "solution": false,
     "task": false
    }
   },
   "outputs": [],
   "source": [
    "# hidden tests in this cell will be used for grading."
   ]
  },
  {
   "cell_type": "markdown",
   "metadata": {
    "deletable": false,
    "editable": false,
    "nbgrader": {
     "cell_type": "markdown",
     "checksum": "7f228055f783a050ae26ee080abbc49c",
     "grade": false,
     "grade_id": "cell-cd7b8bfe0163bb3c",
     "locked": true,
     "schema_version": 3,
     "solution": false,
     "task": false
    }
   },
   "source": [
    "## Question 2 (6 points)\n",
    "\n",
    "Graph $G$ has 5 vertices and 6 edges: (0,3), (0,4), (1,3), (1,4), (2,3), (2,4).\n",
    "\n",
    "Write an oracle for the graph $G$ to check whether it admits a valid 2-coloring. \n",
    "\n",
    "The function `oracle2` has\n",
    "\n",
    "* input: `qq`, a 12-qubit register \n",
    "* returns: `None`\n",
    "\n",
    "The function should append only a sequence of gates to `qq`. It should not append any measurements to `qq`.\n",
    "\n",
    "Use qubits 0-4 for the vertices, 5-10 for the edges and 11 as the ancilla. \n",
    "\n",
    "You can test the oracle with the provided `grover_diffusion`, `grover` and `oracle_computation2` functions."
   ]
  },
  {
   "cell_type": "code",
   "execution_count": null,
   "metadata": {
    "deletable": false,
    "nbgrader": {
     "cell_type": "code",
     "checksum": "16112e54c261f4b68868827304f15052",
     "grade": false,
     "grade_id": "cell-d0a829ac63d428cc",
     "locked": false,
     "schema_version": 3,
     "solution": true,
     "task": false
    }
   },
   "outputs": [],
   "source": [
    "def oracle2(qq):\n",
    "    # YOUR CODE HERE\n",
    "    # Initialize the list of edges\n",
    "    edges = [(0, 3), (0, 4), (1, 3), (1, 4), (2, 3), (2, 4)]\n",
    "\n",
    "    # Loop over each edge and check the vertices coloring\n",
    "    for i, (u, v) in enumerate(edges):\n",
    "        edge_qubit = 5 + i\n",
    "        # If both u and v are the same color (both 0 or both 1), flag it using edge_qubit\n",
    "        yield cirq.Moment(\n",
    "            [\n",
    "                cirq.CCNOT(qq[u], qq[v], qq[edge_qubit]),\n",
    "            ]\n",
    "        )\n",
    "        yield cirq.Moment(\n",
    "            [\n",
    "                cirq.CNOT(qq[edge_qubit], qq[11]),\n",
    "            ]\n",
    "        )\n",
    "        yield cirq.Moment(\n",
    "            [\n",
    "                cirq.CCNOT(qq[u], qq[v], qq[edge_qubit])\n",
    "            ]\n",
    "        )"
   ]
  },
  {
   "cell_type": "code",
   "execution_count": null,
   "metadata": {},
   "outputs": [],
   "source": [
    "# We need some code so you can check your solution\n",
    "def oracle_computation2(qq):\n",
    "    yield oracle2(qq)\n",
    "    yield Z(qq[11])\n",
    "    yield inverse(oracle2(qq))  "
   ]
  },
  {
   "cell_type": "code",
   "execution_count": null,
   "metadata": {},
   "outputs": [],
   "source": [
    "def grover2(trials_number):    \n",
    "    import cirq\n",
    "    from cirq import X, H, Z, inverse, CX\n",
    "    s = cirq.Simulator()\n",
    "\n",
    "    qq = cirq.LineQubit.range(12)\n",
    "    n=5\n",
    "    \n",
    "    circuit = cirq.Circuit()\n",
    "    circuit.append(H.on_each(*(qq[0:n])))\n",
    "    for i in range(2):\n",
    "        circuit.append(oracle_computation2(qq))\n",
    "        circuit.append(grover_diffusion(qq,n))\n",
    "\n",
    "    circuit.append(cirq.measure(*(qq[0:n]), key='result'))\n",
    "\n",
    "    # determine the statistics of the measurements\n",
    "    samples = s.run(circuit, repetitions=trials_number)\n",
    "    result = samples.measurements[\"result\"]\n",
    "\n",
    "    def bitstring(bits):\n",
    "        return \"\".join(str(int(b)) for b in bits)\n",
    "\n",
    "    counts = samples.histogram(key=\"result\",fold_func=bitstring)\n",
    "    return counts"
   ]
  },
  {
   "cell_type": "code",
   "execution_count": null,
   "metadata": {},
   "outputs": [],
   "source": [
    "#You can use this cell to test your solution\n",
    "shots=1000\n",
    "grover2(shots)"
   ]
  },
  {
   "cell_type": "code",
   "execution_count": null,
   "metadata": {
    "deletable": false,
    "editable": false,
    "nbgrader": {
     "cell_type": "code",
     "checksum": "4246ce18f04e859e5569cd7b80a1a3ee",
     "grade": true,
     "grade_id": "cell-f3af2ece23c10d8c",
     "locked": true,
     "points": 6,
     "schema_version": 3,
     "solution": false,
     "task": false
    }
   },
   "outputs": [],
   "source": [
    "# hidden tests in this cell will be used for grading."
   ]
  },
  {
   "cell_type": "markdown",
   "metadata": {
    "deletable": false,
    "editable": false,
    "nbgrader": {
     "cell_type": "markdown",
     "checksum": "4688464dab8ef5a5368bb0bb80dec0a2",
     "grade": false,
     "grade_id": "cell-70019a2ede111a61",
     "locked": true,
     "schema_version": 3,
     "solution": false,
     "task": false
    }
   },
   "source": [
    "## Question 3 (10 points)\n",
    "\n",
    "Graph $G$ has 4 vertices and 5 edges: (0,1), (0,2), (0,3), (1,2), (1,3)\n",
    "\n",
    "Write an oracle for the graph $G$ to check whether there exists a coloring with at least 4 edges connecting vertices with different colors.\n",
    "\n",
    "The function `oracle3` has\n",
    "\n",
    "* input: `qq`, a 13-qubit register \n",
    "* returns: `None`\n",
    "\n",
    "The function should append only a sequence of gates to `qq`. It should not append any measurements to `qq`.\n",
    "\n",
    "Use qubits \n",
    "- 0-3 for the vertices,\n",
    "- 4-8 for the edges,\n",
    "- 9-11 for the addition (remember we need three qubits here for addition unlike the last question), and\n",
    "- 12 as the ancilla.\n",
    "\n",
    "You can test the oracle with the provided `grover_diffusion`, `grover` and `oracle_computation3` functions."
   ]
  },
  {
   "cell_type": "code",
   "execution_count": null,
   "metadata": {
    "deletable": false,
    "nbgrader": {
     "cell_type": "code",
     "checksum": "143856f98ba27993913f66a2e3ee33cf",
     "grade": false,
     "grade_id": "cell-a88eeb3907a822ff",
     "locked": false,
     "schema_version": 3,
     "solution": true,
     "task": false
    }
   },
   "outputs": [],
   "source": [
    "def oracle3(qq):\n",
    "    # YOUR CODE HERE\n",
    "    # Initialize the list of edges\n",
    "    edges = [(0, 1), (0, 2), (0, 3), (1, 2), (1, 3)]\n",
    "\n",
    "    # Loop over each edge and check the vertices coloring\n",
    "    for i, (u, v) in enumerate(edges):\n",
    "        edge_qubit = 4 + i\n",
    "        # If u and v are different colors, set edge_qubit\n",
    "        yield cirq.Moment([cirq.CNOT(qq[u], qq[edge_qubit])])\n",
    "        yield cirq.Moment([cirq.CNOT(qq[v], qq[edge_qubit])])\n",
    "    \n",
    "    # Sum the edge qubits to count how many edges have different colors\n",
    "    yield cirq.Moment([cirq.CNOT(qq[4], qq[9])])\n",
    "    yield cirq.Moment([cirq.CNOT(qq[5], qq[10])])\n",
    "    yield cirq.Moment([cirq.CNOT(qq[6], qq[10])])\n",
    "    yield cirq.Moment([cirq.CNOT(qq[7], qq[11])])\n",
    "    yield cirq.Moment([cirq.CNOT(qq[8], qq[11])])\n",
    "    \n",
    "    # Calculate the sum of edge indicators into qubits 9-11\n",
    "    # Assuming 9, 10, 11 represent a 3-bit sum\n",
    "    yield cirq.Moment([cirq.CCNOT(qq[10], qq[11], qq[12])])\n",
    "    yield cirq.Moment([cirq.CNOT(qq[9], qq[12])])\n",
    "    \n",
    "    # Check if the sum >= 4 by ensuring the sum qubits (9-11) are 100 or greater\n",
    "    yield cirq.Moment([cirq.X(qq[10])])\n",
    "    yield cirq.Moment([cirq.X(qq[11])])\n",
    "    yield cirq.Moment([cirq.CCNOT(qq[9], qq[10], qq[12])])\n",
    "    yield cirq.Moment([cirq.X(qq[10])])\n",
    "    yield cirq.Moment([cirq.X(qq[11])])\n",
    "    \n",
    "    # Reset the edge qubits and sum qubits\n",
    "    for i, (u, v) in enumerate(edges):\n",
    "        edge_qubit = 4 + i\n",
    "        yield cirq.Moment([cirq.CNOT(qq[v], qq[edge_qubit])])\n",
    "        yield cirq.Moment([cirq.CNOT(qq[u], qq[edge_qubit])])\n",
    "    \n",
    "    yield cirq.Moment([cirq.CNOT(qq[4], qq[9])])\n",
    "    yield cirq.Moment([cirq.CNOT(qq[5], qq[10])])\n",
    "    yield cirq.Moment([cirq.CNOT(qq[6], qq[10])])\n",
    "    yield cirq.Moment([cirq.CNOT(qq[7], qq[11])])\n",
    "    yield cirq.Moment([cirq.CNOT(qq[8], qq[11])])\n",
    "    \n",
    "    yield cirq.Moment([cirq.CCNOT(qq[10], qq[11], qq[12])])\n",
    "    yield cirq.Moment([cirq.CNOT(qq[9], qq[12])])\n",
    "    yield cirq.Moment([cirq.CCNOT(qq[10], qq[11], qq[12])])"
   ]
  },
  {
   "cell_type": "code",
   "execution_count": null,
   "metadata": {},
   "outputs": [],
   "source": [
    "# We need some code so you can check your solution\n",
    "def oracle_computation3(qq):\n",
    "    yield oracle3(qq)\n",
    "    yield Z(qq[12])\n",
    "    yield inverse(oracle3(qq))  "
   ]
  },
  {
   "cell_type": "code",
   "execution_count": null,
   "metadata": {},
   "outputs": [],
   "source": [
    "import cirq\n",
    "from cirq import X, H, Z, inverse, CX, CCX\n",
    "    \n",
    "def grover3(trials_number):    \n",
    "    s = cirq.Simulator()\n",
    "\n",
    "    qq = cirq.LineQubit.range(13)\n",
    "    n=4\n",
    "\n",
    "    circuit = cirq.Circuit()\n",
    "    circuit.append(H.on_each(*(qq[0:n])))\n",
    "    for i in range(2):\n",
    "        circuit.append(oracle_computation3(qq))\n",
    "        circuit.append(grover_diffusion(qq,n))\n",
    "\n",
    "    circuit.append(cirq.measure(*(qq[0:n]), key='result'))\n",
    "\n",
    "    # determine the statistics of the measurements\n",
    "    samples = s.run(circuit, repetitions=trials_number)\n",
    "    result = samples.measurements[\"result\"]\n",
    "\n",
    "    def bitstring(bits):\n",
    "        return \"\".join(str(int(b)) for b in bits)\n",
    "\n",
    "    counts = samples.histogram(key=\"result\",fold_func=bitstring)\n",
    "    return counts"
   ]
  },
  {
   "cell_type": "code",
   "execution_count": null,
   "metadata": {},
   "outputs": [],
   "source": [
    "#You can use this cell to test your solution\n",
    "shots=1000\n",
    "grover3(shots)"
   ]
  },
  {
   "cell_type": "code",
   "execution_count": null,
   "metadata": {
    "deletable": false,
    "editable": false,
    "nbgrader": {
     "cell_type": "code",
     "checksum": "2fb4f23a2628baa5c4bbd53548198e9c",
     "grade": true,
     "grade_id": "cell-e70ddbb5f64a88b3",
     "locked": true,
     "points": 10,
     "schema_version": 3,
     "solution": false,
     "task": false
    }
   },
   "outputs": [],
   "source": [
    "# hidden tests in this cell will be used for grading."
   ]
  },
  {
   "cell_type": "code",
   "execution_count": null,
   "metadata": {},
   "outputs": [],
   "source": []
  }
 ],
 "metadata": {
  "kernelspec": {
   "display_name": "Python 3 (ipykernel)",
   "language": "python",
   "name": "python3"
  },
  "language_info": {
   "codemirror_mode": {
    "name": "ipython",
    "version": 3
   },
   "file_extension": ".py",
   "mimetype": "text/x-python",
   "name": "python",
   "nbconvert_exporter": "python",
   "pygments_lexer": "ipython3",
   "version": "3.12.3"
  }
 },
 "nbformat": 4,
 "nbformat_minor": 4
}
