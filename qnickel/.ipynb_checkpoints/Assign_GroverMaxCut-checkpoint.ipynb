{
 "cells": [
  {
   "cell_type": "markdown",
   "metadata": {
    "deletable": false,
    "editable": false,
    "nbgrader": {
     "cell_type": "markdown",
     "checksum": "ac08d7ea268ce6a20a0e0a0d19c24352",
     "grade": false,
     "grade_id": "cell-33da3167fca0d468",
     "locked": true,
     "schema_version": 3,
     "solution": false,
     "task": false
    }
   },
   "source": [
    "# Homework - Grover MaxCut\n",
    "\n",
    "The places where you have enter code are marked with `# YOUR CODE HERE`."
   ]
  },
  {
   "cell_type": "code",
   "execution_count": 1,
   "metadata": {},
   "outputs": [],
   "source": [
    "import cirq\n",
    "from cirq import H, X, Y, Z, CX, inverse"
   ]
  },
  {
   "cell_type": "markdown",
   "metadata": {
    "deletable": false,
    "editable": false,
    "nbgrader": {
     "cell_type": "markdown",
     "checksum": "3472598b6fdd1d56b50a9706c01827f8",
     "grade": false,
     "grade_id": "cell-d981eeb5458c0744",
     "locked": true,
     "schema_version": 3,
     "solution": false,
     "task": false
    }
   },
   "source": [
    "## Question 1 (4 points)\n",
    "\n",
    "Write a function, `oracle010`, that implements an oracle that marks the state $|010 \\rangle$. The function `oracle010` has\n",
    "\n",
    "* input: `qq`, a 3-qubit register \n",
    "* returns: `None`\n",
    "\n",
    "The function should append a sequence of gates to `qq` to mark the state $|010\\rangle$ only. Don't append any measurements to `qq`.\n",
    "\n",
    "To help you test the function, we have provided the `grover_diffusion` and `grover` functions."
   ]
  },
  {
   "cell_type": "code",
   "execution_count": 2,
   "metadata": {
    "deletable": false,
    "nbgrader": {
     "cell_type": "code",
     "checksum": "3234c674937c9ea97ec27157e9062acf",
     "grade": false,
     "grade_id": "cell-a08e811a0e1777c7",
     "locked": false,
     "schema_version": 3,
     "solution": true,
     "task": false
    }
   },
   "outputs": [],
   "source": [
    "def oracle010(qq):\n",
    "    # YOUR CODE HERE\n",
    "    # Apply X gates to the first and third qubits\n",
    "    yield cirq.X(qq[0])\n",
    "    yield cirq.X(qq[2])\n",
    "    \n",
    "    # Apply a Toffoli (CCZ) gate to the second qubit controlled by the first and third qubits\n",
    "    yield cirq.CCX(qq[0], qq[2], qq[1])\n",
    "    \n",
    "    # Revert the first and third qubits to their original state\n",
    "    yield cirq.X(qq[0])\n",
    "    yield cirq.X(qq[2])"
   ]
  },
  {
   "cell_type": "code",
   "execution_count": 3,
   "metadata": {},
   "outputs": [
    {
     "data": {
      "text/html": [
       "<pre style=\"overflow: auto; white-space: pre;\">0: ───X───@───X───\n",
       "          │\n",
       "1: ───────X───────\n",
       "          │\n",
       "2: ───X───@───X───</pre>"
      ],
      "text/plain": [
       "0: ───X───@───X───\n",
       "          │\n",
       "1: ───────X───────\n",
       "          │\n",
       "2: ───X───@───X───"
      ]
     },
     "execution_count": 3,
     "metadata": {},
     "output_type": "execute_result"
    }
   ],
   "source": [
    "# visualize your implemented gates\n",
    "qqTest = cirq.LineQubit.range(3)\n",
    "circuit = cirq.Circuit()\n",
    "circuit.append(oracle010(qqTest))\n",
    "circuit"
   ]
  },
  {
   "cell_type": "code",
   "execution_count": 4,
   "metadata": {},
   "outputs": [],
   "source": [
    "# To check your solution, we need some to implement grover\n",
    "def grover_diffusion(qq,n):\n",
    "    yield H.on_each(*qq)\n",
    "    yield X.on_each(*qq)\n",
    "    yield Z(qq[n-1]).controlled_by(*(qq[0:n-1]))\n",
    "    yield X.on_each(*qq)\n",
    "    yield H.on_each(*qq)"
   ]
  },
  {
   "cell_type": "code",
   "execution_count": 5,
   "metadata": {},
   "outputs": [],
   "source": [
    "def grover(trials_number):\n",
    "    n=3\n",
    "    qq = cirq.LineQubit.range(n)\n",
    "    circuit = cirq.Circuit()\n",
    "    circuit.append(H.on_each(*qq))  \n",
    "\n",
    "    for i in range(2):\n",
    "        circuit.append(oracle010(qq))\n",
    "        circuit.append(grover_diffusion(qq,n))\n",
    "    circuit.append(cirq.measure(*qq, key='result'))\n",
    "\n",
    "    # determine the statistics of the measurements\n",
    "    s = cirq.Simulator() \n",
    "    samples = s.run(circuit, repetitions=trials_number)\n",
    "\n",
    "    def bitstring(bits):\n",
    "        return \"\".join(str(int(b)) for b in bits)\n",
    "\n",
    "    counts = samples.histogram(key=\"result\",fold_func=bitstring)\n",
    "    print(counts)\n",
    "    return counts.get('010')"
   ]
  },
  {
   "cell_type": "code",
   "execution_count": 6,
   "metadata": {},
   "outputs": [
    {
     "name": "stdout",
     "output_type": "stream",
     "text": [
      "Counter({'101': 17, '110': 15, '100': 14, '011': 13, '010': 13, '001': 12, '111': 8, '000': 8})\n"
     ]
    },
    {
     "data": {
      "text/plain": [
       "13"
      ]
     },
     "execution_count": 6,
     "metadata": {},
     "output_type": "execute_result"
    }
   ],
   "source": [
    "# run grover to test if your function gives the right answer\n",
    "grover(100)"
   ]
  },
  {
   "cell_type": "code",
   "execution_count": 7,
   "metadata": {
    "deletable": false,
    "editable": false,
    "nbgrader": {
     "cell_type": "code",
     "checksum": "cf2c533cdb00d2a3feebe35eda382c3e",
     "grade": true,
     "grade_id": "cell-c892138426ad8ca2",
     "locked": true,
     "points": 4,
     "schema_version": 3,
     "solution": false,
     "task": false
    }
   },
   "outputs": [],
   "source": [
    "# hidden tests in this cell will be used for grading."
   ]
  },
  {
   "cell_type": "markdown",
   "metadata": {
    "deletable": false,
    "editable": false,
    "nbgrader": {
     "cell_type": "markdown",
     "checksum": "7f228055f783a050ae26ee080abbc49c",
     "grade": false,
     "grade_id": "cell-cd7b8bfe0163bb3c",
     "locked": true,
     "schema_version": 3,
     "solution": false,
     "task": false
    }
   },
   "source": [
    "## Question 2 (6 points)\n",
    "\n",
    "Graph $G$ has 5 vertices and 6 edges: (0,3), (0,4), (1,3), (1,4), (2,3), (2,4).\n",
    "\n",
    "Write an oracle for the graph $G$ to check whether it admits a valid 2-coloring. \n",
    "\n",
    "The function `oracle2` has\n",
    "\n",
    "* input: `qq`, a 12-qubit register \n",
    "* returns: `None`\n",
    "\n",
    "The function should append only a sequence of gates to `qq`. It should not append any measurements to `qq`.\n",
    "\n",
    "Use qubits 0-4 for the vertices, 5-10 for the edges and 11 as the ancilla. \n",
    "\n",
    "You can test the oracle with the provided `grover_diffusion`, `grover` and `oracle_computation2` functions."
   ]
  },
  {
   "cell_type": "code",
   "execution_count": 44,
   "metadata": {
    "deletable": false,
    "nbgrader": {
     "cell_type": "code",
     "checksum": "16112e54c261f4b68868827304f15052",
     "grade": false,
     "grade_id": "cell-d0a829ac63d428cc",
     "locked": false,
     "schema_version": 3,
     "solution": true,
     "task": false
    }
   },
   "outputs": [],
   "source": [
    "def oracle2(qq):\n",
    "    # YOUR CODE HERE\n",
    "    # Initialize the list of edges\n",
    "    edges = [(0, 3), (0, 4), (1, 3), (1, 4), (2, 3), (2, 4)]\n",
    "\n",
    "    # Loop over each edge and check the vertices coloring\n",
    "    for i, (u, v) in enumerate(edges):\n",
    "        edge_qubit = 5 + i\n",
    "        # If both u and v are the same color (both 0 or both 1), flag it using edge_qubit\n",
    "        yield cirq.Moment(\n",
    "            [\n",
    "                cirq.CCNOT(qq[u], qq[v], qq[edge_qubit]),\n",
    "            ]\n",
    "        )\n",
    "        yield cirq.Moment(\n",
    "            [\n",
    "                cirq.CNOT(qq[edge_qubit], qq[11]),\n",
    "            ]\n",
    "        )\n",
    "        yield cirq.Moment(\n",
    "            [\n",
    "                cirq.CCNOT(qq[u], qq[v], qq[edge_qubit])\n",
    "            ]\n",
    "        )"
   ]
  },
  {
   "cell_type": "code",
   "execution_count": 45,
   "metadata": {},
   "outputs": [],
   "source": [
    "# We need some code so you can check your solution\n",
    "def oracle_computation2(qq):\n",
    "    yield oracle2(qq)\n",
    "    yield Z(qq[11])\n",
    "    yield inverse(oracle2(qq))  "
   ]
  },
  {
   "cell_type": "code",
   "execution_count": 46,
   "metadata": {},
   "outputs": [],
   "source": [
    "def grover2(trials_number):    \n",
    "    import cirq\n",
    "    from cirq import X, H, Z, inverse, CX\n",
    "    s = cirq.Simulator()\n",
    "\n",
    "    qq = cirq.LineQubit.range(12)\n",
    "    n=5\n",
    "    \n",
    "    circuit = cirq.Circuit()\n",
    "    circuit.append(H.on_each(*(qq[0:n])))\n",
    "    for i in range(2):\n",
    "        circuit.append(oracle_computation2(qq))\n",
    "        circuit.append(grover_diffusion(qq,n))\n",
    "\n",
    "    circuit.append(cirq.measure(*(qq[0:n]), key='result'))\n",
    "\n",
    "    # determine the statistics of the measurements\n",
    "    samples = s.run(circuit, repetitions=trials_number)\n",
    "    result = samples.measurements[\"result\"]\n",
    "\n",
    "    def bitstring(bits):\n",
    "        return \"\".join(str(int(b)) for b in bits)\n",
    "\n",
    "    counts = samples.histogram(key=\"result\",fold_func=bitstring)\n",
    "    return counts"
   ]
  },
  {
   "cell_type": "code",
   "execution_count": 47,
   "metadata": {},
   "outputs": [
    {
     "data": {
      "text/plain": [
       "Counter({'00000': 44,\n",
       "         '11001': 42,\n",
       "         '11111': 40,\n",
       "         '01110': 39,\n",
       "         '00001': 39,\n",
       "         '01010': 39,\n",
       "         '10110': 39,\n",
       "         '01111': 37,\n",
       "         '00101': 36,\n",
       "         '10001': 36,\n",
       "         '11101': 35,\n",
       "         '01011': 35,\n",
       "         '10111': 34,\n",
       "         '00111': 34,\n",
       "         '00110': 33,\n",
       "         '01101': 33,\n",
       "         '01001': 32,\n",
       "         '11110': 32,\n",
       "         '00010': 32,\n",
       "         '10100': 30,\n",
       "         '01000': 29,\n",
       "         '10011': 26,\n",
       "         '00011': 25,\n",
       "         '10000': 25,\n",
       "         '11000': 24,\n",
       "         '00100': 24,\n",
       "         '11010': 24,\n",
       "         '11011': 22,\n",
       "         '11100': 21,\n",
       "         '10101': 21,\n",
       "         '01100': 20,\n",
       "         '10010': 18})"
      ]
     },
     "execution_count": 47,
     "metadata": {},
     "output_type": "execute_result"
    }
   ],
   "source": [
    "#You can use this cell to test your solution\n",
    "shots=1000\n",
    "grover2(shots)"
   ]
  },
  {
   "cell_type": "code",
   "execution_count": 48,
   "metadata": {
    "deletable": false,
    "editable": false,
    "nbgrader": {
     "cell_type": "code",
     "checksum": "4246ce18f04e859e5569cd7b80a1a3ee",
     "grade": true,
     "grade_id": "cell-f3af2ece23c10d8c",
     "locked": true,
     "points": 6,
     "schema_version": 3,
     "solution": false,
     "task": false
    }
   },
   "outputs": [],
   "source": [
    "# hidden tests in this cell will be used for grading."
   ]
  },
  {
   "cell_type": "markdown",
   "metadata": {
    "deletable": false,
    "editable": false,
    "nbgrader": {
     "cell_type": "markdown",
     "checksum": "4688464dab8ef5a5368bb0bb80dec0a2",
     "grade": false,
     "grade_id": "cell-70019a2ede111a61",
     "locked": true,
     "schema_version": 3,
     "solution": false,
     "task": false
    }
   },
   "source": [
    "## Question 3 (10 points)\n",
    "\n",
    "Graph $G$ has 4 vertices and 5 edges: (0,1), (0,2), (0,3), (1,2), (1,3)\n",
    "\n",
    "Write an oracle for the graph $G$ to check whether there exists a coloring with at least 4 edges connecting vertices with different colors.\n",
    "\n",
    "The function `oracle3` has\n",
    "\n",
    "* input: `qq`, a 13-qubit register \n",
    "* returns: `None`\n",
    "\n",
    "The function should append only a sequence of gates to `qq`. It should not append any measurements to `qq`.\n",
    "\n",
    "Use qubits \n",
    "- 0-3 for the vertices,\n",
    "- 4-8 for the edges,\n",
    "- 9-11 for the addition (remember we need three qubits here for addition unlike the last question), and\n",
    "- 12 as the ancilla.\n",
    "\n",
    "You can test the oracle with the provided `grover_diffusion`, `grover` and `oracle_computation3` functions."
   ]
  },
  {
   "cell_type": "code",
   "execution_count": 61,
   "metadata": {
    "deletable": false,
    "nbgrader": {
     "cell_type": "code",
     "checksum": "143856f98ba27993913f66a2e3ee33cf",
     "grade": false,
     "grade_id": "cell-a88eeb3907a822ff",
     "locked": false,
     "schema_version": 3,
     "solution": true,
     "task": false
    }
   },
   "outputs": [],
   "source": [
    "def oracle3(qq):\n",
    "    # YOUR CODE HERE\n",
    "    # Initialize the list of edges\n",
    "    edges = [(0, 1), (0, 2), (0, 3), (1, 2), (1, 3)]\n",
    "\n",
    "    # Loop over each edge and check the vertices coloring\n",
    "    for i, (u, v) in enumerate(edges):\n",
    "        edge_qubit = 4 + i\n",
    "        # If u and v are different colors, set edge_qubit\n",
    "        yield cirq.Moment([cirq.CNOT(qq[u], qq[edge_qubit])])\n",
    "        yield cirq.Moment([cirq.CNOT(qq[v], qq[edge_qubit])])\n",
    "    \n",
    "    # Sum the edge qubits to count how many edges have different colors\n",
    "    yield cirq.Moment([cirq.CNOT(qq[4], qq[9])])\n",
    "    yield cirq.Moment([cirq.CNOT(qq[5], qq[10])])\n",
    "    yield cirq.Moment([cirq.CNOT(qq[6], qq[10])])\n",
    "    yield cirq.Moment([cirq.CNOT(qq[7], qq[11])])\n",
    "    yield cirq.Moment([cirq.CNOT(qq[8], qq[11])])\n",
    "    \n",
    "    # Calculate the sum of edge indicators into qubits 9-11\n",
    "    # Assuming 9, 10, 11 represent a 3-bit sum\n",
    "    yield cirq.Moment([cirq.CCNOT(qq[10], qq[11], qq[12])])\n",
    "    yield cirq.Moment([cirq.CNOT(qq[9], qq[12])])\n",
    "    \n",
    "    # Check if the sum >= 4 by ensuring the sum qubits (9-11) are 100 or greater\n",
    "    yield cirq.Moment([cirq.X(qq[10])])\n",
    "    yield cirq.Moment([cirq.X(qq[11])])\n",
    "    yield cirq.Moment([cirq.CCNOT(qq[9], qq[10], qq[12])])\n",
    "    yield cirq.Moment([cirq.X(qq[10])])\n",
    "    yield cirq.Moment([cirq.X(qq[11])])\n",
    "    \n",
    "    # Reset the edge qubits and sum qubits\n",
    "    for i, (u, v) in enumerate(edges):\n",
    "        edge_qubit = 4 + i\n",
    "        yield cirq.Moment([cirq.CNOT(qq[v], qq[edge_qubit])])\n",
    "        yield cirq.Moment([cirq.CNOT(qq[u], qq[edge_qubit])])\n",
    "    \n",
    "    yield cirq.Moment([cirq.CNOT(qq[4], qq[9])])\n",
    "    yield cirq.Moment([cirq.CNOT(qq[5], qq[10])])\n",
    "    yield cirq.Moment([cirq.CNOT(qq[6], qq[10])])\n",
    "    yield cirq.Moment([cirq.CNOT(qq[7], qq[11])])\n",
    "    yield cirq.Moment([cirq.CNOT(qq[8], qq[11])])\n",
    "    \n",
    "    yield cirq.Moment([cirq.CCNOT(qq[10], qq[11], qq[12])])\n",
    "    yield cirq.Moment([cirq.CNOT(qq[9], qq[12])])\n",
    "    yield cirq.Moment([cirq.CCNOT(qq[10], qq[11], qq[12])])"
   ]
  },
  {
   "cell_type": "code",
   "execution_count": 62,
   "metadata": {},
   "outputs": [],
   "source": [
    "# We need some code so you can check your solution\n",
    "def oracle_computation3(qq):\n",
    "    yield oracle3(qq)\n",
    "    yield Z(qq[12])\n",
    "    yield inverse(oracle3(qq))  "
   ]
  },
  {
   "cell_type": "code",
   "execution_count": 63,
   "metadata": {},
   "outputs": [],
   "source": [
    "import cirq\n",
    "from cirq import X, H, Z, inverse, CX, CCX\n",
    "    \n",
    "def grover3(trials_number):    \n",
    "    s = cirq.Simulator()\n",
    "\n",
    "    qq = cirq.LineQubit.range(13)\n",
    "    n=4\n",
    "\n",
    "    circuit = cirq.Circuit()\n",
    "    circuit.append(H.on_each(*(qq[0:n])))\n",
    "    for i in range(2):\n",
    "        circuit.append(oracle_computation3(qq))\n",
    "        circuit.append(grover_diffusion(qq,n))\n",
    "\n",
    "    circuit.append(cirq.measure(*(qq[0:n]), key='result'))\n",
    "\n",
    "    # determine the statistics of the measurements\n",
    "    samples = s.run(circuit, repetitions=trials_number)\n",
    "    result = samples.measurements[\"result\"]\n",
    "\n",
    "    def bitstring(bits):\n",
    "        return \"\".join(str(int(b)) for b in bits)\n",
    "\n",
    "    counts = samples.histogram(key=\"result\",fold_func=bitstring)\n",
    "    return counts"
   ]
  },
  {
   "cell_type": "code",
   "execution_count": 64,
   "metadata": {},
   "outputs": [
    {
     "data": {
      "text/plain": [
       "Counter({'1011': 75,\n",
       "         '1100': 72,\n",
       "         '0101': 71,\n",
       "         '1000': 69,\n",
       "         '0011': 68,\n",
       "         '1101': 67,\n",
       "         '1010': 66,\n",
       "         '1110': 63,\n",
       "         '1001': 63,\n",
       "         '1111': 63,\n",
       "         '0111': 57,\n",
       "         '0001': 56,\n",
       "         '0110': 54,\n",
       "         '0010': 52,\n",
       "         '0100': 52,\n",
       "         '0000': 52})"
      ]
     },
     "execution_count": 64,
     "metadata": {},
     "output_type": "execute_result"
    }
   ],
   "source": [
    "#You can use this cell to test your solution\n",
    "shots=1000\n",
    "grover3(shots)"
   ]
  },
  {
   "cell_type": "code",
   "execution_count": 65,
   "metadata": {
    "deletable": false,
    "editable": false,
    "nbgrader": {
     "cell_type": "code",
     "checksum": "2fb4f23a2628baa5c4bbd53548198e9c",
     "grade": true,
     "grade_id": "cell-e70ddbb5f64a88b3",
     "locked": true,
     "points": 10,
     "schema_version": 3,
     "solution": false,
     "task": false
    }
   },
   "outputs": [],
   "source": [
    "# hidden tests in this cell will be used for grading."
   ]
  },
  {
   "cell_type": "code",
   "execution_count": null,
   "metadata": {},
   "outputs": [],
   "source": []
  }
 ],
 "metadata": {
  "kernelspec": {
   "display_name": "Python 3 (ipykernel)",
   "language": "python",
   "name": "python3"
  },
  "language_info": {
   "codemirror_mode": {
    "name": "ipython",
    "version": 3
   },
   "file_extension": ".py",
   "mimetype": "text/x-python",
   "name": "python",
   "nbconvert_exporter": "python",
   "pygments_lexer": "ipython3",
   "version": "3.12.3"
  }
 },
 "nbformat": 4,
 "nbformat_minor": 4
}
