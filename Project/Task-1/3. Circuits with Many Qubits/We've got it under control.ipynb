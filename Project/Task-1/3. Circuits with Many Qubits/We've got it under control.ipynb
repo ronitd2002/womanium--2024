{
 "cells": [
  {
   "cell_type": "code",
   "execution_count": 1,
   "id": "474d62c8",
   "metadata": {},
   "outputs": [],
   "source": [
    "import pennylane as qml\n",
    "import pennylane.numpy as np\n",
    "import matplotlib.pyplot as plt\n",
    "%matplotlib inline"
   ]
  },
  {
   "cell_type": "code",
   "execution_count": 2,
   "id": "19cd4b3c",
   "metadata": {},
   "outputs": [],
   "source": [
    "def prepare_states(phi, theta, omega):\n",
    "    qml.RZ(phi, wires=0)\n",
    "    qml.RX(theta, wires=0)\n",
    "    qml.RZ(omega, wires=0)"
   ]
  },
  {
   "cell_type": "code",
   "execution_count": 3,
   "id": "5eee04d9",
   "metadata": {},
   "outputs": [
    {
     "name": "stdout",
     "output_type": "stream",
     "text": [
      "True CZ output state [-0.27216539-0.30461121j  0.        +0.j          0.81346194-0.41402618j\n",
      "  0.        +0.j        ]\n",
      "Imposter CZ output state [-0.27216539-0.30461121j  0.        +0.j          0.81346194-0.41402618j\n",
      "  0.        +0.j        ]\n"
     ]
    }
   ],
   "source": [
    "dev = qml.device(\"default.qubit\", wires=2)\n",
    "\n",
    "# Prepare a two-qubit state; change up the angles if you like\n",
    "phi, theta, omega = 1.2, 2.3, 3.4\n",
    "\n",
    "\n",
    "@qml.qnode(device=dev)\n",
    "def true_cz(phi, theta, omega):\n",
    "    prepare_states(phi, theta, omega)\n",
    "\n",
    "    # IMPLEMENT THE REGULAR CZ GATE HERE\n",
    "    qml.CZ(wires = [0,1])\n",
    "    \n",
    "    return qml.state()\n",
    "\n",
    "\n",
    "@qml.qnode(dev)\n",
    "def imposter_cz(phi, theta, omega):\n",
    "    prepare_states(phi, theta, omega)\n",
    "    \n",
    "    # IMPLEMENT CZ USING ONLY H AND CNOT\n",
    "    qml.Hadamard(wires = 1)\n",
    "    qml.CNOT(wires = [0,1])\n",
    "    qml.Hadamard(wires = 1)\n",
    "    return qml.state()\n",
    "\n",
    "\n",
    "print(f\"True CZ output state {true_cz(phi, theta, omega)}\")\n",
    "print(f\"Imposter CZ output state {imposter_cz(phi, theta, omega)}\")"
   ]
  },
  {
   "cell_type": "code",
   "execution_count": 4,
   "id": "2e1a22e3",
   "metadata": {},
   "outputs": [
    {
     "name": "stdout",
     "output_type": "stream",
     "text": [
      "Regular SWAP state = [-0.27216539-0.30461121j  0.81346194-0.41402618j  0.        +0.j\n",
      "  0.        +0.j        ]\n",
      "CNOT SWAP state = [-0.27216539-0.30461121j  0.81346194-0.41402618j  0.        +0.j\n",
      "  0.        +0.j        ]\n"
     ]
    }
   ],
   "source": [
    "dev = qml.device(\"default.qubit\", wires=2)\n",
    "\n",
    "# Prepare a two-qubit state; change up the angles if you like\n",
    "phi, theta, omega = 1.2, 2.3, 3.4\n",
    "\n",
    "\n",
    "@qml.qnode(dev)\n",
    "def apply_swap(phi, theta, omega):\n",
    "    prepare_states(phi, theta, omega)\n",
    "\n",
    "    # IMPLEMENT THE REGULAR SWAP GATE HERE\n",
    "    qml.SWAP(wires = [0,1])\n",
    "\n",
    "    return qml.state()\n",
    "\n",
    "\n",
    "@qml.qnode(dev)\n",
    "def apply_swap_with_cnots(phi, theta, omega):\n",
    "    prepare_states(phi, theta, omega)\n",
    "\n",
    "    # IMPLEMENT THE SWAP GATE USING A SEQUENCE OF CNOTS\n",
    "    qml.CNOT(wires = [1,0])\n",
    "    qml.CNOT(wires = [0,1])\n",
    "    qml.CNOT(wires = [1,0])\n",
    "    \n",
    "    return qml.state()\n",
    "\n",
    "\n",
    "print(f\"Regular SWAP state = {apply_swap(phi, theta, omega)}\")\n",
    "print(f\"CNOT SWAP state = {apply_swap_with_cnots(phi, theta, omega)}\")"
   ]
  },
  {
   "cell_type": "code",
   "execution_count": 5,
   "id": "009edb50",
   "metadata": {},
   "outputs": [
    {
     "name": "stdout",
     "output_type": "stream",
     "text": [
      "[-0.27216539-0.30461121j  0.        +0.j          0.        +0.j\n",
      "  0.        +0.j          0.81346194-0.41402618j  0.        +0.j\n",
      "  0.        +0.j          0.        +0.j        ]\n",
      "[-0.27216539-0.30461121j  0.        +0.j          0.        +0.j\n",
      "  0.        +0.j          0.81346194-0.41402618j  0.        +0.j\n",
      "  0.        +0.j          0.        +0.j        ]\n"
     ]
    }
   ],
   "source": [
    "dev = qml.device(\"default.qubit\", wires=3)\n",
    "\n",
    "# Prepare first qubit in |1>, and arbitrary states on the second two qubits\n",
    "phi, theta, omega = 1.2, 2.3, 3.4\n",
    "\n",
    "\n",
    "# A helper function just so you can visualize the initial state\n",
    "# before the controlled SWAP occurs.\n",
    "@qml.qnode(dev)\n",
    "def no_swap(phi, theta, omega):\n",
    "    prepare_states(phi, theta, omega)\n",
    "    return qml.state()\n",
    "\n",
    "\n",
    "@qml.qnode(dev)\n",
    "def controlled_swap(phi, theta, omega):\n",
    "    prepare_states(phi, theta, omega)\n",
    "\n",
    "    # PERFORM A CONTROLLED SWAP USING A SEQUENCE OF TOFFOLIS\n",
    "    qml.Toffoli(wires = [0,1,2])\n",
    "    qml.Toffoli(wires = [0,2,1])\n",
    "    qml.Toffoli(wires = [0,1,2])\n",
    "\n",
    "    return qml.state()\n",
    "\n",
    "\n",
    "print(no_swap(phi, theta, omega))\n",
    "print(controlled_swap(phi, theta, omega))"
   ]
  },
  {
   "cell_type": "code",
   "execution_count": 6,
   "id": "e6736775",
   "metadata": {},
   "outputs": [
    {
     "name": "stdout",
     "output_type": "stream",
     "text": [
      "[0.35355339+0.j 0.        +0.j 0.        +0.j 0.35355339+0.j\n",
      " 0.35355339+0.j 0.        +0.j 0.35355339+0.j 0.        +0.j\n",
      " 0.35355339+0.j 0.        +0.j 0.35355339+0.j 0.        +0.j\n",
      " 0.35355339+0.j 0.        +0.j 0.35355339+0.j 0.        +0.j]\n"
     ]
    },
    {
     "name": "stderr",
     "output_type": "stream",
     "text": [
      "/home/ronit/.local/lib/python3.12/site-packages/pennylane/ops/op_math/controlled_ops.py:1045: PennyLaneDeprecationWarning: Specifying control values using a bitstring is deprecated, and will not be supported in future releases, Use a list of booleans or integers instead.\n",
      "  warnings.warn(\n",
      "/home/ronit/.local/lib/python3.12/site-packages/pennylane/ops/op_math/controlled_ops.py:1051: UserWarning: The control_wires keyword for MultiControlledX is deprecated, and will be removed soon. Use wires = (*control_wires, target_wire) instead.\n",
      "  warnings.warn(\n"
     ]
    }
   ],
   "source": [
    "dev = qml.device('default.qubit', wires=4)\n",
    "\n",
    "@qml.qnode(dev)\n",
    "def four_qubit_mcx():\n",
    "    \n",
    "    # IMPLEMENT THE CIRCUIT ABOVE USING A 4-QUBIT MULTI-CONTROLLED X\n",
    "    \n",
    "    qml.Hadamard(wires = 0)\n",
    "    qml.Hadamard(wires = 1)\n",
    "    qml.Hadamard(wires = 2)\n",
    "    \n",
    "    qml.MultiControlledX(control_wires = [0,1,2], wires = 3, control_values = \"001\")\n",
    "\n",
    "    return qml.state()\n",
    "\n",
    "print(four_qubit_mcx())"
   ]
  },
  {
   "cell_type": "code",
   "execution_count": 7,
   "id": "906b7bd6",
   "metadata": {},
   "outputs": [
    {
     "name": "stdout",
     "output_type": "stream",
     "text": [
      "[0.+0.j 0.+0.j 0.+0.j 0.+0.j 0.+0.j 0.+0.j 0.+0.j 0.+0.j 0.+0.j 0.+0.j\n",
      " 0.+0.j 0.+0.j 0.+0.j 0.+0.j 0.+0.j 0.+0.j 0.+0.j 0.+0.j 0.+0.j 0.+0.j\n",
      " 0.+0.j 0.+0.j 0.+0.j 0.+0.j 0.+0.j 0.+0.j 0.+0.j 0.+0.j 0.+0.j 1.+0.j\n",
      " 0.+0.j 0.+0.j]\n"
     ]
    }
   ],
   "source": [
    "dev = qml.device('default.qubit', wires=5)\n",
    "\n",
    "\n",
    "@qml.qnode(dev)\n",
    "def four_qubit_mcx_only_tofs():\n",
    "    # We will initialize the control qubits in state |1> so you can see\n",
    "    # how the output state gets changed.\n",
    "    qml.PauliX(wires=0)\n",
    "    qml.PauliX(wires=1)\n",
    "    qml.PauliX(wires=2)\n",
    "\n",
    "    # IMPLEMENT A 3-CONTROLLED NOT WITH TOFFOLIS\n",
    "    \n",
    "    # Map the ancillary to |ab>\n",
    "    qml.Toffoli(wires = [0,1,3])\n",
    "    \n",
    "    # Map the target to |abc>\n",
    "    qml.Toffoli(wires = [2,3,4])\n",
    "    \n",
    "    # Reset the ancillary to |0>\n",
    "    qml.Toffoli(wires = [0,1,3])\n",
    "    return qml.state()\n",
    "\n",
    "\n",
    "print(four_qubit_mcx_only_tofs())"
   ]
  }
 ],
 "metadata": {
  "kernelspec": {
   "display_name": "Python 3 (ipykernel)",
   "language": "python",
   "name": "python3"
  },
  "language_info": {
   "codemirror_mode": {
    "name": "ipython",
    "version": 3
   },
   "file_extension": ".py",
   "mimetype": "text/x-python",
   "name": "python",
   "nbconvert_exporter": "python",
   "pygments_lexer": "ipython3",
   "version": "3.12.3"
  }
 },
 "nbformat": 4,
 "nbformat_minor": 5
}
