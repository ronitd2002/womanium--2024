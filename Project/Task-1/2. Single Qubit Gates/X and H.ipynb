{
 "cells": [
  {
   "cell_type": "code",
   "execution_count": 1,
   "id": "99478ad5-aa77-4dc4-a1f5-6ac2f3a6607a",
   "metadata": {},
   "outputs": [],
   "source": [
    "import pennylane as qml\n",
    "import pennylane.numpy as np\n",
    "import matplotlib.pyplot as plt\n",
    "%matplotlib inline\n",
    "plt.style.use('classic')"
   ]
  },
  {
   "cell_type": "markdown",
   "id": "e143cd30-7162-44e5-a258-af3c21def109",
   "metadata": {},
   "source": [
    "#### Codercise I.4.1 - Flipping Bits"
   ]
  },
  {
   "cell_type": "code",
   "execution_count": 2,
   "id": "1282d0ad-1f6e-4b3d-9dca-6daca0ea7c2f",
   "metadata": {},
   "outputs": [],
   "source": [
    "dev = qml.device(\"default.qubit\", wires=1)\n",
    "\n",
    "U = np.array([[1, 1], [1, -1]]) / np.sqrt(2)\n",
    "\n",
    "\n",
    "@qml.qnode(dev)\n",
    "def varied_initial_state(state):\n",
    "    \"\"\"Complete the function such that we can apply the operation U to\n",
    "    either |0> or |1> depending on the input argument flag.\n",
    "\n",
    "    Args:\n",
    "        state (int): Either 0 or 1. If 1, prepare the qubit in state |1>,\n",
    "            otherwise, leave it in state 0.\n",
    "\n",
    "    Returns:\n",
    "        np.array[complex]: The state of the qubit after the operations.\n",
    "    \"\"\"\n",
    "\n",
    "    if state == 1:\n",
    "        qml.PauliX(wires=0)\n",
    "    qml.QubitUnitary(U, wires=0)\n",
    "\n",
    "    return qml.state()"
   ]
  },
  {
   "cell_type": "markdown",
   "id": "f19f74b4-1202-41e4-aad6-9e823d5e032c",
   "metadata": {},
   "source": [
    "#### Codercise I.4.2 - Uniform Superposition"
   ]
  },
  {
   "cell_type": "code",
   "execution_count": 3,
   "id": "60d4bb5b-fa37-4808-98e1-b32fc31a35d9",
   "metadata": {},
   "outputs": [],
   "source": [
    "dev = qml.device(\"default.qubit\", wires=1)\n",
    "\n",
    "\n",
    "@qml.qnode(dev)\n",
    "def apply_hadamard():\n",
    "    \n",
    "    qml.Hadamard(wires=0)   \n",
    "    return qml.state()"
   ]
  },
  {
   "cell_type": "markdown",
   "id": "e2c6fe6a-88b8-497d-986b-0d5f332935e4",
   "metadata": {},
   "source": [
    "#### Codercise I.4.3 - Combining X and H"
   ]
  },
  {
   "cell_type": "code",
   "execution_count": 4,
   "id": "55230ddb-5b58-41b9-bb62-f2358f5e8710",
   "metadata": {},
   "outputs": [
    {
     "name": "stdout",
     "output_type": "stream",
     "text": [
      "[0.70710678+0.j 0.70710678+0.j]\n",
      "[ 0.70710678+0.j -0.70710678+0.j]\n"
     ]
    }
   ],
   "source": [
    "dev = qml.device(\"default.qubit\", wires=1)\n",
    "\n",
    "\n",
    "@qml.qnode(dev)\n",
    "def apply_hadamard_to_state(state):\n",
    "    \"\"\"Complete the function such that we can apply the Hadamard to\n",
    "    either |0> or |1> depending on the input argument flag.\n",
    "\n",
    "    Args:\n",
    "        state (int): Either 0 or 1. If 1, prepare the qubit in state |1>,\n",
    "            otherwise, leave it in state 0.\n",
    "\n",
    "    Returns:\n",
    "        np.array[complex]: The state of the qubit after the operations.\n",
    "    \"\"\"\n",
    "    \n",
    "    if state == 1:\n",
    "        qml.PauliX(wires=0)\n",
    "    qml.Hadamard(wires=0)\n",
    "\n",
    "    return qml.state()\n",
    "\n",
    "print(apply_hadamard_to_state(0))\n",
    "print(apply_hadamard_to_state(1))"
   ]
  },
  {
   "cell_type": "markdown",
   "id": "e03a45a3-67fe-46fa-bc28-7264fefded1e",
   "metadata": {},
   "source": [
    "#### Codercise I.4.4 - A QNode with X and H"
   ]
  },
  {
   "cell_type": "code",
   "execution_count": 5,
   "id": "e0794848-c0e9-45ae-bdab-bc31ec7714ab",
   "metadata": {},
   "outputs": [
    {
     "name": "stdout",
     "output_type": "stream",
     "text": [
      "[1.+0.j 0.+0.j]\n",
      "[ 0.+0.j -1.+0.j]\n"
     ]
    }
   ],
   "source": [
    "dev = qml.device(\"default.qubit\", wires=1)\n",
    "\n",
    "@qml.qnode(dev)\n",
    "def apply_hxh(state):\n",
    "\n",
    "    if state == 1:\n",
    "        qml.PauliX(wires=0)\n",
    "    \n",
    "    qml.Hadamard(wires=0)\n",
    "    qml.PauliX(wires=0)\n",
    "    qml.Hadamard(wires=0)\n",
    "    \n",
    "    return qml.state()\n",
    "\n",
    "# Print your results\n",
    "print(apply_hxh(0))\n",
    "print(apply_hxh(1))"
   ]
  }
 ],
 "metadata": {
  "kernelspec": {
   "display_name": "Python 3 (ipykernel)",
   "language": "python",
   "name": "python3"
  },
  "language_info": {
   "codemirror_mode": {
    "name": "ipython",
    "version": 3
   },
   "file_extension": ".py",
   "mimetype": "text/x-python",
   "name": "python",
   "nbconvert_exporter": "python",
   "pygments_lexer": "ipython3",
   "version": "3.12.3"
  }
 },
 "nbformat": 4,
 "nbformat_minor": 5
}
