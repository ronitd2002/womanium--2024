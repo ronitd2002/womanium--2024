{
 "cells": [
  {
   "cell_type": "code",
   "execution_count": 1,
   "id": "1bb44655-1439-4555-8833-4c2ecd6f3817",
   "metadata": {},
   "outputs": [],
   "source": [
    "import pennylane as qml\n",
    "import pennylane.numpy as np\n",
    "import matplotlib.pyplot as plt\n",
    "%matplotlib inline\n",
    "plt.style.use('classic')"
   ]
  },
  {
   "cell_type": "markdown",
   "id": "c45da6e3-ef97-4b2e-9273-c7b945adf1fc",
   "metadata": {},
   "source": [
    "#### Codercise I.8.1 - State Preparation"
   ]
  },
  {
   "cell_type": "markdown",
   "id": "be91bf26-a107-43ef-b127-923e2932418b",
   "metadata": {},
   "source": [
    "Prepare the state $ \\ket{\\psi} = \\dfrac{1}{\\sqrt{2}} \\ket{0} + \\dfrac{1}{\\sqrt{2}}e^{\\tiny{\\dfrac{5}{4}}\\normalsize i\\pi} \\ket{1}$"
   ]
  },
  {
   "cell_type": "code",
   "execution_count": 2,
   "id": "6d793c4a-30ef-4703-b118-39c0e8bae3a9",
   "metadata": {},
   "outputs": [],
   "source": [
    "dev = qml.device(\"default.qubit\", wires=1)\n",
    "\n",
    "\n",
    "@qml.qnode(dev)\n",
    "def prepare_state():\n",
    "    qml.Hadamard(wires=0)\n",
    "    qml.RZ(1.25*np.pi, wires=0)\n",
    "\n",
    "    return qml.state()"
   ]
  },
  {
   "cell_type": "markdown",
   "id": "a2d81acd-2072-405d-8cb2-32c0abe4d854",
   "metadata": {},
   "source": [
    "#### Codercise I.8.2 - State Preparation Revisited"
   ]
  },
  {
   "cell_type": "markdown",
   "id": "79d16e63-db13-42b3-afab-f5a4e0e8fe2b",
   "metadata": {},
   "source": [
    "Prepare the state $\\ket{\\psi} = \\dfrac{\\sqrt{3}}{2}\\ket{0} - \\dfrac{i}{2}\\ket{1}$"
   ]
  },
  {
   "cell_type": "code",
   "execution_count": 3,
   "id": "ce941a01-a271-4b85-a76e-504a353e0078",
   "metadata": {},
   "outputs": [],
   "source": [
    "dev = qml.device(\"default.qubit\", wires=1)\n",
    "\n",
    "\n",
    "@qml.qnode(dev)\n",
    "def prepare_state():\n",
    "    qml.RX(np.pi/3, wires=0)\n",
    "\n",
    "    return qml.state()"
   ]
  },
  {
   "cell_type": "markdown",
   "id": "6e7f03f2-b7a2-4775-b325-3da2d25fa7a0",
   "metadata": {},
   "source": [
    "#### Codercise I.8.3 - State Preparation with Mottonen's Method"
   ]
  },
  {
   "cell_type": "markdown",
   "id": "e94c380d-f967-4e73-94b8-881ad3a712dd",
   "metadata": {},
   "source": [
    "Prepare the custom state $\\ket{v}$"
   ]
  },
  {
   "cell_type": "code",
   "execution_count": 4,
   "id": "9cddd721-b215-4d5b-bd2d-3c35fcd862d9",
   "metadata": {},
   "outputs": [
    {
     "name": "stdout",
     "output_type": "stream",
     "text": [
      "[0.52889389-0.14956775j 0.67262317+0.49545818j]\n",
      "\n",
      "0: ──RY(1.98)──RZ(0.91)──GlobalPhase(-0.18)─┤  State\n"
     ]
    }
   ],
   "source": [
    "v = np.array([0.52889389 - 0.14956775j, 0.67262317 + 0.49545818j])\n",
    "\n",
    "dev = qml.device('default.qubit', wires=1)\n",
    "\n",
    "@qml.qnode(dev)\n",
    "def prepare_state(state=v):\n",
    "    qml.MottonenStatePreparation(state_vector=v, wires=0)\n",
    "    return qml.state()\n",
    "\n",
    "\n",
    "# This will draw the quantum circuit and allow you to inspect the output gates\n",
    "print(prepare_state(v))\n",
    "print()\n",
    "print(qml.draw(prepare_state, expansion_strategy=\"device\")(v))"
   ]
  }
 ],
 "metadata": {
  "kernelspec": {
   "display_name": "Python 3 (ipykernel)",
   "language": "python",
   "name": "python3"
  },
  "language_info": {
   "codemirror_mode": {
    "name": "ipython",
    "version": 3
   },
   "file_extension": ".py",
   "mimetype": "text/x-python",
   "name": "python",
   "nbconvert_exporter": "python",
   "pygments_lexer": "ipython3",
   "version": "3.12.3"
  }
 },
 "nbformat": 4,
 "nbformat_minor": 5
}
