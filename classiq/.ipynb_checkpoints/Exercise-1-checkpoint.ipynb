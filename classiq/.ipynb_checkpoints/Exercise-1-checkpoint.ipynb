{
 "cells": [
  {
   "cell_type": "code",
   "execution_count": 3,
   "id": "3f22eb8b-c7d2-4e11-9f02-c647fba36bc3",
   "metadata": {},
   "outputs": [],
   "source": [
    "import classiq\n",
    "\n",
    "classiq.enable_jupyter_notebook()"
   ]
  },
  {
   "cell_type": "code",
   "execution_count": 1,
   "id": "74c67721-2e83-40f3-8d79-7daf16384040",
   "metadata": {},
   "outputs": [],
   "source": [
    "from classiq import Output, QNum, allocate, hadamard_transform, qfunc"
   ]
  },
  {
   "cell_type": "code",
   "execution_count": 2,
   "id": "be07cb59-0189-4e6b-b4d4-db5e09660445",
   "metadata": {},
   "outputs": [],
   "source": [
    "@qfunc\n",
    "def main(x: Output[QNum], z: Output[QNum], y: Output[QNum]):\n",
    "\n",
    "    allocate(5, x)\n",
    "    allocate(5, z)\n",
    "    hadamard_transform(x)  # creates a uniform superposition for x\n",
    "    hadamard_transform(z)  # creates a uniform superposition for z\n",
    "    y |= 2*x + 4*z + 2"
   ]
  },
  {
   "cell_type": "code",
   "execution_count": 4,
   "id": "7f8dafb2-e689-4d05-95d0-9b3ff473a26c",
   "metadata": {},
   "outputs": [
    {
     "name": "stdout",
     "output_type": "stream",
     "text": [
      "Opening: https://platform.classiq.io/circuit/24884439-1ac6-402c-b876-2a4c4a65a8d2?version=0.42.2\n"
     ]
    }
   ],
   "source": [
    "from classiq import create_model, show, synthesize\n",
    "\n",
    "quantum_program = synthesize(create_model(main))\n",
    "show(quantum_program)"
   ]
  },
  {
   "cell_type": "code",
   "execution_count": null,
   "id": "4447c6ed-ed01-4dce-a5d7-40244c0441de",
   "metadata": {},
   "outputs": [],
   "source": []
  }
 ],
 "metadata": {
  "kernelspec": {
   "display_name": "Python 3 (ipykernel)",
   "language": "python",
   "name": "python3"
  },
  "language_info": {
   "codemirror_mode": {
    "name": "ipython",
    "version": 3
   },
   "file_extension": ".py",
   "mimetype": "text/x-python",
   "name": "python",
   "nbconvert_exporter": "python",
   "pygments_lexer": "ipython3",
   "version": "3.11.7"
  }
 },
 "nbformat": 4,
 "nbformat_minor": 5
}
