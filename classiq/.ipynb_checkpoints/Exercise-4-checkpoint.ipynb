{
 "cells": [
  {
   "cell_type": "code",
   "execution_count": 1,
   "id": "b3fe8eff-8032-4b58-ab1c-f0db2d246565",
   "metadata": {},
   "outputs": [
    {
     "name": "stdout",
     "output_type": "stream",
     "text": [
      "Opening: https://platform.classiq.io/circuit/ce4de18b-dabb-4832-b19b-f0154c00268a?version=0.42.2\n"
     ]
    }
   ],
   "source": [
    "from classiq import *\n",
    "\n",
    "\n",
    "@qfunc\n",
    "def main(x: Output[QNum], y: Output[QNum]):\n",
    "\n",
    "    allocate(4, x)\n",
    "    hadamard_transform(x)  # creates a uniform superposition\n",
    "    y |= x**2 + 1\n",
    "\n",
    "\n",
    "quantum_program = synthesize(create_model(main))\n",
    "show(quantum_program)"
   ]
  },
  {
   "cell_type": "code",
   "execution_count": 2,
   "id": "b12981d3-4a56-401a-9e30-6795fecb2a1b",
   "metadata": {},
   "outputs": [
    {
     "name": "stdout",
     "output_type": "stream",
     "text": [
      "[{'x': 12.0, 'y': 145.0}: 153, {'x': 11.0, 'y': 122.0}: 149, {'x': 3.0, 'y': 10.0}: 145, {'x': 7.0, 'y': 50.0}: 141, {'x': 9.0, 'y': 82.0}: 133, {'x': 10.0, 'y': 101.0}: 133, {'x': 8.0, 'y': 65.0}: 129, {'x': 2.0, 'y': 5.0}: 129, {'x': 13.0, 'y': 170.0}: 126, {'x': 6.0, 'y': 37.0}: 121, {'x': 14.0, 'y': 197.0}: 120, {'x': 5.0, 'y': 26.0}: 119, {'x': 4.0, 'y': 17.0}: 116, {'x': 0.0, 'y': 1.0}: 116, {'x': 15.0, 'y': 226.0}: 113, {'x': 1.0, 'y': 2.0}: 105]\n"
     ]
    }
   ],
   "source": [
    "job = execute(quantum_program)\n",
    "results = job.result()[0].value.parsed_counts\n",
    "print(results)"
   ]
  },
  {
   "cell_type": "code",
   "execution_count": 3,
   "id": "a23ccb46-7098-4360-ac40-8be265caca5a",
   "metadata": {},
   "outputs": [],
   "source": [
    "from classiq.execution import ExecutionPreferences\n",
    "\n",
    "quantum_model = create_model(main)\n",
    "quantum_model_with_execution_preferences = set_execution_preferences(\n",
    "    quantum_model,\n",
    "    ExecutionPreferences(\n",
    "        num_shots=5096, job_name=\"classiq 101 - execute\", random_seed=767\n",
    "    ),\n",
    ")"
   ]
  },
  {
   "cell_type": "code",
   "execution_count": 4,
   "id": "901420ed-344b-4b0d-b9dd-843078282551",
   "metadata": {},
   "outputs": [],
   "source": [
    "quantum_program_with_execution_preferences = synthesize(\n",
    "    quantum_model_with_execution_preferences\n",
    ")\n",
    "job = execute(quantum_program_with_execution_preferences)"
   ]
  },
  {
   "cell_type": "code",
   "execution_count": 5,
   "id": "450418a3-7468-40de-8600-9bcd4d3175fa",
   "metadata": {},
   "outputs": [
    {
     "name": "stdout",
     "output_type": "stream",
     "text": [
      "The job on the provider Classiq on the backend simulator with 5096 shots is QUEUED can be accessed in the IDE with this URL: https://platform.classiq.io/jobs/5372c4bf-9e34-431c-b369-6ba0f333a99a\n"
     ]
    }
   ],
   "source": [
    "print(\n",
    "    f\"The job on the provider {job.provider} on the backend {job.backend_name} with {job.num_shots} shots is {job.status} can be accessed in the IDE with this URL: {job.ide_url}\"\n",
    ")"
   ]
  },
  {
   "cell_type": "code",
   "execution_count": 6,
   "id": "4abd3e18-ce6d-434e-b28b-b42085fedca9",
   "metadata": {},
   "outputs": [],
   "source": [
    "job.open_in_ide()"
   ]
  },
  {
   "cell_type": "code",
   "execution_count": 7,
   "id": "20cf7e8d-391b-414d-8abd-0c817f797643",
   "metadata": {},
   "outputs": [],
   "source": [
    "results = job.result()[0].value"
   ]
  },
  {
   "cell_type": "code",
   "execution_count": 8,
   "id": "7b2950ea-c5e4-483c-8e2d-18eaaea479af",
   "metadata": {},
   "outputs": [
    {
     "name": "stdout",
     "output_type": "stream",
     "text": [
      "[{'x': 13.0, 'y': 170.0}: 333, {'x': 12.0, 'y': 145.0}: 333, {'x': 3.0, 'y': 10.0}: 328, {'x': 5.0, 'y': 26.0}: 327, {'x': 10.0, 'y': 101.0}: 326, {'x': 11.0, 'y': 122.0}: 325, {'x': 7.0, 'y': 50.0}: 324, {'x': 9.0, 'y': 82.0}: 323, {'x': 2.0, 'y': 5.0}: 323, {'x': 8.0, 'y': 65.0}: 321, {'x': 6.0, 'y': 37.0}: 321, {'x': 1.0, 'y': 2.0}: 315, {'x': 14.0, 'y': 197.0}: 310, {'x': 15.0, 'y': 226.0}: 302, {'x': 4.0, 'y': 17.0}: 298, {'x': 0.0, 'y': 1.0}: 287]\n"
     ]
    }
   ],
   "source": [
    "print(results.parsed_counts)"
   ]
  },
  {
   "cell_type": "code",
   "execution_count": 9,
   "id": "1d9df2ef-a508-4e38-81a1-fe613d1e413a",
   "metadata": {},
   "outputs": [
    {
     "name": "stdout",
     "output_type": "stream",
     "text": [
      "{'000110100101': 327, '010100101001': 323, '111000101111': 302, '000010100011': 328, '000100010100': 298, '000001010010': 323, '011001011010': 326, '101010101101': 333, '000000100001': 315, '010000011000': 321, '110001011110': 310, '001100100111': 324, '000000010000': 287, '001001010110': 321, '100100011100': 333, '011110101011': 325}\n"
     ]
    }
   ],
   "source": [
    "print(results.counts)"
   ]
  },
  {
   "cell_type": "code",
   "execution_count": 10,
   "id": "246da271-2cd4-4555-8e46-101b68717d3a",
   "metadata": {},
   "outputs": [
    {
     "name": "stdout",
     "output_type": "stream",
     "text": [
      "{'000110100101': {'x': 5.0, 'y': 26.0}, '010100101001': {'x': 9.0, 'y': 82.0}, '111000101111': {'x': 15.0, 'y': 226.0}, '000010100011': {'x': 3.0, 'y': 10.0}, '000100010100': {'x': 4.0, 'y': 17.0}, '000001010010': {'x': 2.0, 'y': 5.0}, '011001011010': {'x': 10.0, 'y': 101.0}, '101010101101': {'x': 13.0, 'y': 170.0}, '000000100001': {'x': 1.0, 'y': 2.0}, '010000011000': {'x': 8.0, 'y': 65.0}, '110001011110': {'x': 14.0, 'y': 197.0}, '001100100111': {'x': 7.0, 'y': 50.0}, '000000010000': {'x': 0.0, 'y': 1.0}, '001001010110': {'x': 6.0, 'y': 37.0}, '100100011100': {'x': 12.0, 'y': 145.0}, '011110101011': {'x': 11.0, 'y': 122.0}}\n"
     ]
    }
   ],
   "source": [
    "print(results.parsed_states)"
   ]
  },
  {
   "cell_type": "code",
   "execution_count": 11,
   "id": "fd3e06fa-6f7d-43fa-8760-9108560aaf4e",
   "metadata": {},
   "outputs": [
    {
     "name": "stdout",
     "output_type": "stream",
     "text": [
      "True\n"
     ]
    }
   ],
   "source": [
    "print(results.counts_lsb_right)"
   ]
  },
  {
   "cell_type": "code",
   "execution_count": 12,
   "id": "2bd17bfa-28b5-4c7d-9ec6-556555cbdee9",
   "metadata": {},
   "outputs": [],
   "source": [
    "write_qmod(quantum_model_with_execution_preferences, \"execute\")"
   ]
  }
 ],
 "metadata": {
  "kernelspec": {
   "display_name": "Python 3 (ipykernel)",
   "language": "python",
   "name": "python3"
  },
  "language_info": {
   "codemirror_mode": {
    "name": "ipython",
    "version": 3
   },
   "file_extension": ".py",
   "mimetype": "text/x-python",
   "name": "python",
   "nbconvert_exporter": "python",
   "pygments_lexer": "ipython3",
   "version": "3.11.7"
  }
 },
 "nbformat": 4,
 "nbformat_minor": 5
}
