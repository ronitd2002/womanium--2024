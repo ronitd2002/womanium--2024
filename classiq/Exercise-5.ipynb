{
 "cells": [
  {
   "cell_type": "code",
   "execution_count": 23,
   "id": "45a399a3-9e60-49ca-ac5e-45fd0b80a82f",
   "metadata": {},
   "outputs": [],
   "source": [
    "from classiq import *\n",
    "\n",
    "\n",
    "@qfunc\n",
    "def main(x: Output[QNum], y: Output[QNum]):\n",
    "\n",
    "    allocate(10, x)\n",
    "    hadamard_transform(x)  # creates a uniform superposition\n",
    "    y |= x**2 + 1"
   ]
  },
  {
   "cell_type": "code",
   "execution_count": 11,
   "id": "0e07ccad-343e-4d08-b486-14ed5639a99d",
   "metadata": {},
   "outputs": [],
   "source": [
    "quantum_program = synthesize(create_model(main))"
   ]
  },
  {
   "cell_type": "code",
   "execution_count": 12,
   "id": "5e879205-7fcf-451c-a880-23d64fd3a39c",
   "metadata": {},
   "outputs": [
    {
     "name": "stdout",
     "output_type": "stream",
     "text": [
      "[{'x': 7.0, 'y': 50.0}: 148, {'x': 15.0, 'y': 226.0}: 138, {'x': 11.0, 'y': 122.0}: 136, {'x': 10.0, 'y': 101.0}: 136, {'x': 4.0, 'y': 17.0}: 135, {'x': 8.0, 'y': 65.0}: 133, {'x': 5.0, 'y': 26.0}: 132, {'x': 3.0, 'y': 10.0}: 129, {'x': 13.0, 'y': 170.0}: 127, {'x': 2.0, 'y': 5.0}: 126, {'x': 14.0, 'y': 197.0}: 125, {'x': 0.0, 'y': 1.0}: 124, {'x': 9.0, 'y': 82.0}: 118, {'x': 12.0, 'y': 145.0}: 116, {'x': 1.0, 'y': 2.0}: 114, {'x': 6.0, 'y': 37.0}: 111]\n"
     ]
    }
   ],
   "source": [
    "job = execute(quantum_program)\n",
    "results = job.result()[0].value.parsed_counts\n",
    "print(results)"
   ]
  },
  {
   "cell_type": "code",
   "execution_count": 24,
   "id": "65e99666-4fd8-4f20-85c1-cf4a04a80bcb",
   "metadata": {},
   "outputs": [],
   "source": [
    "from classiq.execution import ExecutionPreferences\n",
    "\n",
    "quantum_model = create_model(main)\n",
    "quantum_model_with_execution_preferences = set_execution_preferences(\n",
    "    quantum_model,\n",
    "    ExecutionPreferences(\n",
    "        num_shots=5096, job_name=\"classiq 101 - execute\", random_seed=767\n",
    "    ),\n",
    ")"
   ]
  },
  {
   "cell_type": "code",
   "execution_count": 25,
   "id": "53c92939-e271-4aaa-99f6-d589fedf4e76",
   "metadata": {},
   "outputs": [
    {
     "ename": "ClassiqAPIError",
     "evalue": "Call to API failed with code 400: Requested program requires too many qubits.\nRequested qubits: 30, backend: simulator, limit: 25.\nPlease run a different program or try a different backend.\n\nIf you need further assistance, please reach out on our Community Slack channel at: https://short.classiq.io/join-slack\nIf the error persists feel free to open a ticket at: https://short.classiq.io/support",
     "output_type": "error",
     "traceback": [
      "\u001b[1;31m---------------------------------------------------------------------------\u001b[0m",
      "\u001b[1;31mClassiqAPIError\u001b[0m                           Traceback (most recent call last)",
      "Cell \u001b[1;32mIn[25], line 4\u001b[0m\n\u001b[0;32m      1\u001b[0m quantum_program_with_execution_preferences \u001b[38;5;241m=\u001b[39m synthesize(\n\u001b[0;32m      2\u001b[0m     quantum_model_with_execution_preferences\n\u001b[0;32m      3\u001b[0m )\n\u001b[1;32m----> 4\u001b[0m job \u001b[38;5;241m=\u001b[39m execute(quantum_program_with_execution_preferences)\n",
      "File \u001b[1;32m~\\anaconda3\\Lib\\site-packages\\classiq\\_internals\\async_utils.py:45\u001b[0m, in \u001b[0;36msyncify_function.<locals>.async_wrapper\u001b[1;34m(*args, **kwargs)\u001b[0m\n\u001b[0;32m     43\u001b[0m \u001b[38;5;129m@functools\u001b[39m\u001b[38;5;241m.\u001b[39mwraps(async_func)\n\u001b[0;32m     44\u001b[0m \u001b[38;5;28;01mdef\u001b[39;00m \u001b[38;5;21masync_wrapper\u001b[39m(\u001b[38;5;241m*\u001b[39margs: Any, \u001b[38;5;241m*\u001b[39m\u001b[38;5;241m*\u001b[39mkwargs: Any) \u001b[38;5;241m-\u001b[39m\u001b[38;5;241m>\u001b[39m T:\n\u001b[1;32m---> 45\u001b[0m     \u001b[38;5;28;01mreturn\u001b[39;00m run(async_func(\u001b[38;5;241m*\u001b[39margs, \u001b[38;5;241m*\u001b[39m\u001b[38;5;241m*\u001b[39mkwargs))\n",
      "File \u001b[1;32m~\\anaconda3\\Lib\\site-packages\\classiq\\_internals\\async_utils.py:39\u001b[0m, in \u001b[0;36mrun\u001b[1;34m(coro)\u001b[0m\n\u001b[0;32m     34\u001b[0m \u001b[38;5;28;01mdef\u001b[39;00m \u001b[38;5;21mrun\u001b[39m(coro: Awaitable[T]) \u001b[38;5;241m-\u001b[39m\u001b[38;5;241m>\u001b[39m T:\n\u001b[0;32m     35\u001b[0m     \u001b[38;5;66;03m# Use this function instead of asyncio.run, since it ALWAYS\u001b[39;00m\n\u001b[0;32m     36\u001b[0m     \u001b[38;5;66;03m# creates a new event loop and clears the thread event loop.\u001b[39;00m\n\u001b[0;32m     37\u001b[0m     \u001b[38;5;66;03m# Never use asyncio.run in library code.\u001b[39;00m\n\u001b[0;32m     38\u001b[0m     loop \u001b[38;5;241m=\u001b[39m get_event_loop()\n\u001b[1;32m---> 39\u001b[0m     \u001b[38;5;28;01mreturn\u001b[39;00m loop\u001b[38;5;241m.\u001b[39mrun_until_complete(coro)\n",
      "File \u001b[1;32m~\\anaconda3\\Lib\\site-packages\\nest_asyncio.py:98\u001b[0m, in \u001b[0;36m_patch_loop.<locals>.run_until_complete\u001b[1;34m(self, future)\u001b[0m\n\u001b[0;32m     95\u001b[0m \u001b[38;5;28;01mif\u001b[39;00m \u001b[38;5;129;01mnot\u001b[39;00m f\u001b[38;5;241m.\u001b[39mdone():\n\u001b[0;32m     96\u001b[0m     \u001b[38;5;28;01mraise\u001b[39;00m \u001b[38;5;167;01mRuntimeError\u001b[39;00m(\n\u001b[0;32m     97\u001b[0m         \u001b[38;5;124m'\u001b[39m\u001b[38;5;124mEvent loop stopped before Future completed.\u001b[39m\u001b[38;5;124m'\u001b[39m)\n\u001b[1;32m---> 98\u001b[0m \u001b[38;5;28;01mreturn\u001b[39;00m f\u001b[38;5;241m.\u001b[39mresult()\n",
      "File \u001b[1;32m~\\anaconda3\\Lib\\asyncio\\futures.py:203\u001b[0m, in \u001b[0;36mFuture.result\u001b[1;34m(self)\u001b[0m\n\u001b[0;32m    201\u001b[0m \u001b[38;5;28mself\u001b[39m\u001b[38;5;241m.\u001b[39m__log_traceback \u001b[38;5;241m=\u001b[39m \u001b[38;5;28;01mFalse\u001b[39;00m\n\u001b[0;32m    202\u001b[0m \u001b[38;5;28;01mif\u001b[39;00m \u001b[38;5;28mself\u001b[39m\u001b[38;5;241m.\u001b[39m_exception \u001b[38;5;129;01mis\u001b[39;00m \u001b[38;5;129;01mnot\u001b[39;00m \u001b[38;5;28;01mNone\u001b[39;00m:\n\u001b[1;32m--> 203\u001b[0m     \u001b[38;5;28;01mraise\u001b[39;00m \u001b[38;5;28mself\u001b[39m\u001b[38;5;241m.\u001b[39m_exception\u001b[38;5;241m.\u001b[39mwith_traceback(\u001b[38;5;28mself\u001b[39m\u001b[38;5;241m.\u001b[39m_exception_tb)\n\u001b[0;32m    204\u001b[0m \u001b[38;5;28;01mreturn\u001b[39;00m \u001b[38;5;28mself\u001b[39m\u001b[38;5;241m.\u001b[39m_result\n",
      "File \u001b[1;32m~\\anaconda3\\Lib\\asyncio\\tasks.py:277\u001b[0m, in \u001b[0;36mTask.__step\u001b[1;34m(***failed resolving arguments***)\u001b[0m\n\u001b[0;32m    273\u001b[0m \u001b[38;5;28;01mtry\u001b[39;00m:\n\u001b[0;32m    274\u001b[0m     \u001b[38;5;28;01mif\u001b[39;00m exc \u001b[38;5;129;01mis\u001b[39;00m \u001b[38;5;28;01mNone\u001b[39;00m:\n\u001b[0;32m    275\u001b[0m         \u001b[38;5;66;03m# We use the `send` method directly, because coroutines\u001b[39;00m\n\u001b[0;32m    276\u001b[0m         \u001b[38;5;66;03m# don't have `__iter__` and `__next__` methods.\u001b[39;00m\n\u001b[1;32m--> 277\u001b[0m         result \u001b[38;5;241m=\u001b[39m coro\u001b[38;5;241m.\u001b[39msend(\u001b[38;5;28;01mNone\u001b[39;00m)\n\u001b[0;32m    278\u001b[0m     \u001b[38;5;28;01melse\u001b[39;00m:\n\u001b[0;32m    279\u001b[0m         result \u001b[38;5;241m=\u001b[39m coro\u001b[38;5;241m.\u001b[39mthrow(exc)\n",
      "File \u001b[1;32m~\\anaconda3\\Lib\\site-packages\\classiq\\executor.py:37\u001b[0m, in \u001b[0;36mexecute_async\u001b[1;34m(quantum_program)\u001b[0m\n\u001b[0;32m     35\u001b[0m \u001b[38;5;28;01masync\u001b[39;00m \u001b[38;5;28;01mdef\u001b[39;00m \u001b[38;5;21mexecute_async\u001b[39m(quantum_program: SerializedQuantumProgram) \u001b[38;5;241m-\u001b[39m\u001b[38;5;241m>\u001b[39m ExecutionJob:\n\u001b[0;32m     36\u001b[0m     circuit \u001b[38;5;241m=\u001b[39m _parse_serialized_qprog(quantum_program)\n\u001b[1;32m---> 37\u001b[0m     result \u001b[38;5;241m=\u001b[39m \u001b[38;5;28;01mawait\u001b[39;00m ApiWrapper\u001b[38;5;241m.\u001b[39mcall_execute_generated_circuit(circuit)\n\u001b[0;32m     38\u001b[0m     \u001b[38;5;28;01mreturn\u001b[39;00m ExecutionJob(details\u001b[38;5;241m=\u001b[39mresult)\n",
      "File \u001b[1;32m~\\anaconda3\\Lib\\site-packages\\classiq\\_internals\\api_wrapper.py:123\u001b[0m, in \u001b[0;36mApiWrapper.call_execute_generated_circuit\u001b[1;34m(cls, circuit)\u001b[0m\n\u001b[0;32m    114\u001b[0m execution_input \u001b[38;5;241m=\u001b[39m \u001b[38;5;28;01mawait\u001b[39;00m \u001b[38;5;28mcls\u001b[39m\u001b[38;5;241m.\u001b[39m_call_task_pydantic(\n\u001b[0;32m    115\u001b[0m     http_method\u001b[38;5;241m=\u001b[39mHTTPMethod\u001b[38;5;241m.\u001b[39mPOST,\n\u001b[0;32m    116\u001b[0m     url\u001b[38;5;241m=\u001b[39mroutes\u001b[38;5;241m.\u001b[39mCONVERSION_GENERATED_CIRCUIT_TO_EXECUTION_INPUT_FULL,\n\u001b[0;32m    117\u001b[0m     model\u001b[38;5;241m=\u001b[39mcircuit,\n\u001b[0;32m    118\u001b[0m )\n\u001b[0;32m    119\u001b[0m headers \u001b[38;5;241m=\u001b[39m {\n\u001b[0;32m    120\u001b[0m     _ACCEPT_HEADER: \u001b[38;5;124m\"\u001b[39m\u001b[38;5;124mv1\u001b[39m\u001b[38;5;124m\"\u001b[39m,\n\u001b[0;32m    121\u001b[0m     _CONTENT_TYPE_HEADER: execution_input[\u001b[38;5;124m\"\u001b[39m\u001b[38;5;124mversion\u001b[39m\u001b[38;5;124m\"\u001b[39m],\n\u001b[0;32m    122\u001b[0m }\n\u001b[1;32m--> 123\u001b[0m data \u001b[38;5;241m=\u001b[39m \u001b[38;5;28;01mawait\u001b[39;00m \u001b[38;5;28mcls\u001b[39m\u001b[38;5;241m.\u001b[39m_call_task(\n\u001b[0;32m    124\u001b[0m     http_method\u001b[38;5;241m=\u001b[39mHTTPMethod\u001b[38;5;241m.\u001b[39mPOST,\n\u001b[0;32m    125\u001b[0m     headers\u001b[38;5;241m=\u001b[39mheaders,\n\u001b[0;32m    126\u001b[0m     url\u001b[38;5;241m=\u001b[39mroutes\u001b[38;5;241m.\u001b[39mEXECUTION_JOBS_NON_VERSIONED_FULL_PATH,\n\u001b[0;32m    127\u001b[0m     body\u001b[38;5;241m=\u001b[39mexecution_input,\n\u001b[0;32m    128\u001b[0m     use_versioned_url\u001b[38;5;241m=\u001b[39m\u001b[38;5;28;01mFalse\u001b[39;00m,\n\u001b[0;32m    129\u001b[0m )\n\u001b[0;32m    130\u001b[0m \u001b[38;5;28;01mreturn\u001b[39;00m execution_request\u001b[38;5;241m.\u001b[39mExecutionJobDetails\u001b[38;5;241m.\u001b[39mparse_obj(data)\n",
      "File \u001b[1;32m~\\anaconda3\\Lib\\site-packages\\classiq\\_internals\\api_wrapper.py:90\u001b[0m, in \u001b[0;36mApiWrapper._call_task\u001b[1;34m(cls, http_method, url, body, params, use_versioned_url, headers)\u001b[0m\n\u001b[0;32m     80\u001b[0m \u001b[38;5;129m@classmethod\u001b[39m\n\u001b[0;32m     81\u001b[0m \u001b[38;5;28;01masync\u001b[39;00m \u001b[38;5;28;01mdef\u001b[39;00m \u001b[38;5;21m_call_task\u001b[39m(\n\u001b[0;32m     82\u001b[0m     \u001b[38;5;28mcls\u001b[39m,\n\u001b[1;32m   (...)\u001b[0m\n\u001b[0;32m     88\u001b[0m     headers: Optional[Dict[\u001b[38;5;28mstr\u001b[39m, \u001b[38;5;28mstr\u001b[39m]] \u001b[38;5;241m=\u001b[39m \u001b[38;5;28;01mNone\u001b[39;00m,\n\u001b[0;32m     89\u001b[0m ) \u001b[38;5;241m-\u001b[39m\u001b[38;5;241m>\u001b[39m \u001b[38;5;28mdict\u001b[39m:\n\u001b[1;32m---> 90\u001b[0m     res \u001b[38;5;241m=\u001b[39m \u001b[38;5;28;01mawait\u001b[39;00m client()\u001b[38;5;241m.\u001b[39mcall_api(\n\u001b[0;32m     91\u001b[0m         http_method\u001b[38;5;241m=\u001b[39mhttp_method,\n\u001b[0;32m     92\u001b[0m         url\u001b[38;5;241m=\u001b[39murl,\n\u001b[0;32m     93\u001b[0m         body\u001b[38;5;241m=\u001b[39mbody,\n\u001b[0;32m     94\u001b[0m         headers\u001b[38;5;241m=\u001b[39mheaders,\n\u001b[0;32m     95\u001b[0m         params\u001b[38;5;241m=\u001b[39mparams,\n\u001b[0;32m     96\u001b[0m         use_versioned_url\u001b[38;5;241m=\u001b[39muse_versioned_url,\n\u001b[0;32m     97\u001b[0m     )\n\u001b[0;32m     98\u001b[0m     \u001b[38;5;28;01mif\u001b[39;00m \u001b[38;5;129;01mnot\u001b[39;00m \u001b[38;5;28misinstance\u001b[39m(res, \u001b[38;5;28mdict\u001b[39m):\n\u001b[0;32m     99\u001b[0m         \u001b[38;5;28;01mraise\u001b[39;00m ClassiqValueError(\u001b[38;5;124mf\u001b[39m\u001b[38;5;124m\"\u001b[39m\u001b[38;5;124mUnexpected returned value: \u001b[39m\u001b[38;5;132;01m{\u001b[39;00mres\u001b[38;5;132;01m}\u001b[39;00m\u001b[38;5;124m\"\u001b[39m)\n",
      "File \u001b[1;32m~\\anaconda3\\Lib\\site-packages\\classiq\\_internals\\client.py:114\u001b[0m, in \u001b[0;36mtry_again_on_failure.<locals>.wrapper\u001b[1;34m(*args, **kwargs)\u001b[0m\n\u001b[0;32m    112\u001b[0m \u001b[38;5;28;01mfor\u001b[39;00m i \u001b[38;5;129;01min\u001b[39;00m \u001b[38;5;28mrange\u001b[39m(_RETRY_COUNT):\n\u001b[0;32m    113\u001b[0m     \u001b[38;5;28;01mtry\u001b[39;00m:\n\u001b[1;32m--> 114\u001b[0m         \u001b[38;5;28;01mreturn\u001b[39;00m \u001b[38;5;28;01mawait\u001b[39;00m func(\u001b[38;5;241m*\u001b[39margs, \u001b[38;5;241m*\u001b[39m\u001b[38;5;241m*\u001b[39mkwargs)\n\u001b[0;32m    115\u001b[0m     \u001b[38;5;28;01mexcept\u001b[39;00m ClassiqExpiredTokenError:\n\u001b[0;32m    116\u001b[0m         _logger\u001b[38;5;241m.\u001b[39minfo(\n\u001b[0;32m    117\u001b[0m             \u001b[38;5;124m\"\u001b[39m\u001b[38;5;124mToken expired when trying to \u001b[39m\u001b[38;5;132;01m%s\u001b[39;00m\u001b[38;5;124m with args \u001b[39m\u001b[38;5;132;01m%s\u001b[39;00m\u001b[38;5;124m \u001b[39m\u001b[38;5;132;01m%s\u001b[39;00m\u001b[38;5;124m\"\u001b[39m,\n\u001b[0;32m    118\u001b[0m             func,\n\u001b[1;32m   (...)\u001b[0m\n\u001b[0;32m    121\u001b[0m             exc_info\u001b[38;5;241m=\u001b[39m\u001b[38;5;28;01mTrue\u001b[39;00m,\n\u001b[0;32m    122\u001b[0m         )\n",
      "File \u001b[1;32m~\\anaconda3\\Lib\\site-packages\\classiq\\_internals\\client.py:238\u001b[0m, in \u001b[0;36mClient.call_api\u001b[1;34m(self, http_method, url, body, params, use_versioned_url, headers)\u001b[0m\n\u001b[0;32m    230\u001b[0m \u001b[38;5;28;01masync\u001b[39;00m \u001b[38;5;28;01mwith\u001b[39;00m \u001b[38;5;28mself\u001b[39m\u001b[38;5;241m.\u001b[39masync_client() \u001b[38;5;28;01mas\u001b[39;00m async_client:\n\u001b[0;32m    231\u001b[0m     response \u001b[38;5;241m=\u001b[39m \u001b[38;5;28;01mawait\u001b[39;00m async_client\u001b[38;5;241m.\u001b[39mrequest(\n\u001b[0;32m    232\u001b[0m         method\u001b[38;5;241m=\u001b[39mhttp_method,\n\u001b[0;32m    233\u001b[0m         url\u001b[38;5;241m=\u001b[39murl,\n\u001b[1;32m   (...)\u001b[0m\n\u001b[0;32m    236\u001b[0m         headers\u001b[38;5;241m=\u001b[39mheaders,\n\u001b[0;32m    237\u001b[0m     )\n\u001b[1;32m--> 238\u001b[0m     \u001b[38;5;28mself\u001b[39m\u001b[38;5;241m.\u001b[39mhandle_response(response)\n\u001b[0;32m    239\u001b[0m     \u001b[38;5;28;01mreturn\u001b[39;00m response\u001b[38;5;241m.\u001b[39mjson()\n",
      "File \u001b[1;32m~\\anaconda3\\Lib\\site-packages\\classiq\\_internals\\client.py:190\u001b[0m, in \u001b[0;36mClient.handle_response\u001b[1;34m(self, response)\u001b[0m\n\u001b[0;32m    188\u001b[0m \u001b[38;5;28mself\u001b[39m\u001b[38;5;241m.\u001b[39m_handle_warnings(response)\n\u001b[0;32m    189\u001b[0m \u001b[38;5;28;01mif\u001b[39;00m response\u001b[38;5;241m.\u001b[39mis_error:\n\u001b[1;32m--> 190\u001b[0m     \u001b[38;5;28mself\u001b[39m\u001b[38;5;241m.\u001b[39m_handle_error(response)\n\u001b[0;32m    191\u001b[0m \u001b[38;5;28mself\u001b[39m\u001b[38;5;241m.\u001b[39m_handle_success(response)\n",
      "File \u001b[1;32m~\\anaconda3\\Lib\\site-packages\\classiq\\_internals\\client.py:209\u001b[0m, in \u001b[0;36mClient._handle_error\u001b[1;34m(response)\u001b[0m\n\u001b[0;32m    207\u001b[0m \u001b[38;5;28;01mexcept\u001b[39;00m \u001b[38;5;167;01mException\u001b[39;00m:  \u001b[38;5;66;03m# noqa: S110\u001b[39;00m\n\u001b[0;32m    208\u001b[0m     \u001b[38;5;28;01mpass\u001b[39;00m\n\u001b[1;32m--> 209\u001b[0m \u001b[38;5;28;01mraise\u001b[39;00m ClassiqAPIError(message)\n",
      "\u001b[1;31mClassiqAPIError\u001b[0m: Call to API failed with code 400: Requested program requires too many qubits.\nRequested qubits: 30, backend: simulator, limit: 25.\nPlease run a different program or try a different backend.\n\nIf you need further assistance, please reach out on our Community Slack channel at: https://short.classiq.io/join-slack\nIf the error persists feel free to open a ticket at: https://short.classiq.io/support"
     ]
    }
   ],
   "source": [
    "quantum_program_with_execution_preferences = synthesize(\n",
    "    quantum_model_with_execution_preferences\n",
    ")\n",
    "job = execute(quantum_program_with_execution_preferences)"
   ]
  },
  {
   "cell_type": "code",
   "execution_count": null,
   "id": "d8c6af45-2476-44f2-b8ee-c2feabb9d474",
   "metadata": {},
   "outputs": [],
   "source": [
    "print(\n",
    "    f\"The job on the provider {job.provider} on the backend {job.backend_name} with {job.num_shots} shots is {job.status} can be accessed in the IDE with this URL: {job.ide_url}\"\n",
    ")"
   ]
  },
  {
   "cell_type": "code",
   "execution_count": 16,
   "id": "371759a6-7318-4edc-af77-9cb219f498de",
   "metadata": {},
   "outputs": [],
   "source": [
    "job.open_in_ide()"
   ]
  },
  {
   "cell_type": "code",
   "execution_count": 17,
   "id": "9dec1f13-1c31-469d-b360-6488dabefdae",
   "metadata": {},
   "outputs": [],
   "source": [
    "results = job.result()[0].value\n"
   ]
  },
  {
   "cell_type": "code",
   "execution_count": 18,
   "id": "aa776773-afb0-480f-a595-e2acc437b396",
   "metadata": {},
   "outputs": [
    {
     "name": "stdout",
     "output_type": "stream",
     "text": [
      "[{'x': 13.0, 'y': 170.0}: 333, {'x': 12.0, 'y': 145.0}: 333, {'x': 3.0, 'y': 10.0}: 328, {'x': 5.0, 'y': 26.0}: 327, {'x': 10.0, 'y': 101.0}: 326, {'x': 11.0, 'y': 122.0}: 325, {'x': 7.0, 'y': 50.0}: 324, {'x': 9.0, 'y': 82.0}: 323, {'x': 2.0, 'y': 5.0}: 323, {'x': 8.0, 'y': 65.0}: 321, {'x': 6.0, 'y': 37.0}: 321, {'x': 1.0, 'y': 2.0}: 315, {'x': 14.0, 'y': 197.0}: 310, {'x': 15.0, 'y': 226.0}: 302, {'x': 4.0, 'y': 17.0}: 298, {'x': 0.0, 'y': 1.0}: 287]\n"
     ]
    }
   ],
   "source": [
    "print(results.parsed_counts)\n"
   ]
  },
  {
   "cell_type": "code",
   "execution_count": 19,
   "id": "91eb57c1-3865-4277-a856-cdbf22fa2d3c",
   "metadata": {},
   "outputs": [
    {
     "name": "stdout",
     "output_type": "stream",
     "text": [
      "{'000110100101': 327, '010100101001': 323, '111000101111': 302, '000010100011': 328, '000100010100': 298, '000001010010': 323, '011001011010': 326, '101010101101': 333, '000000100001': 315, '010000011000': 321, '110001011110': 310, '001100100111': 324, '000000010000': 287, '001001010110': 321, '100100011100': 333, '011110101011': 325}\n"
     ]
    }
   ],
   "source": [
    "print(results.counts)\n"
   ]
  },
  {
   "cell_type": "code",
   "execution_count": 20,
   "id": "c5b97739-e280-413f-b6fe-a1b36d008627",
   "metadata": {},
   "outputs": [
    {
     "name": "stdout",
     "output_type": "stream",
     "text": [
      "{'000110100101': {'x': 5.0, 'y': 26.0}, '010100101001': {'x': 9.0, 'y': 82.0}, '111000101111': {'x': 15.0, 'y': 226.0}, '000010100011': {'x': 3.0, 'y': 10.0}, '000100010100': {'x': 4.0, 'y': 17.0}, '000001010010': {'x': 2.0, 'y': 5.0}, '011001011010': {'x': 10.0, 'y': 101.0}, '101010101101': {'x': 13.0, 'y': 170.0}, '000000100001': {'x': 1.0, 'y': 2.0}, '010000011000': {'x': 8.0, 'y': 65.0}, '110001011110': {'x': 14.0, 'y': 197.0}, '001100100111': {'x': 7.0, 'y': 50.0}, '000000010000': {'x': 0.0, 'y': 1.0}, '001001010110': {'x': 6.0, 'y': 37.0}, '100100011100': {'x': 12.0, 'y': 145.0}, '011110101011': {'x': 11.0, 'y': 122.0}}\n"
     ]
    }
   ],
   "source": [
    "print(results.parsed_states)\n"
   ]
  },
  {
   "cell_type": "code",
   "execution_count": 21,
   "id": "1dfd415b-14d0-4097-97c9-5d0bf37a8ffb",
   "metadata": {},
   "outputs": [
    {
     "name": "stdout",
     "output_type": "stream",
     "text": [
      "True\n"
     ]
    }
   ],
   "source": [
    "print(results.counts_lsb_right)\n"
   ]
  },
  {
   "cell_type": "code",
   "execution_count": 22,
   "id": "d3d51ed5-ddb7-44e6-803b-af00443f2d99",
   "metadata": {},
   "outputs": [],
   "source": [
    "write_qmod(quantum_model_with_execution_preferences, \"execute\")\n"
   ]
  },
  {
   "cell_type": "code",
   "execution_count": null,
   "id": "98483685-3f2f-4a62-a58f-64be7b5dea56",
   "metadata": {},
   "outputs": [],
   "source": []
  }
 ],
 "metadata": {
  "kernelspec": {
   "display_name": "Python 3 (ipykernel)",
   "language": "python",
   "name": "python3"
  },
  "language_info": {
   "codemirror_mode": {
    "name": "ipython",
    "version": 3
   },
   "file_extension": ".py",
   "mimetype": "text/x-python",
   "name": "python",
   "nbconvert_exporter": "python",
   "pygments_lexer": "ipython3",
   "version": "3.11.7"
  }
 },
 "nbformat": 4,
 "nbformat_minor": 5
}
