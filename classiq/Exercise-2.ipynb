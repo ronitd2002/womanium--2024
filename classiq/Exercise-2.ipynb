{
 "cells": [
  {
   "cell_type": "code",
   "execution_count": 8,
   "id": "ee3e2c31-7add-4437-ac0e-7c35c98702eb",
   "metadata": {},
   "outputs": [],
   "source": [
    "from classiq import QArray, X, qfunc\n",
    "\n",
    "\n",
    "@qfunc\n",
    "def flip_lsb(reg: QArray):\n",
    "    X(reg[0])"
   ]
  },
  {
   "cell_type": "code",
   "execution_count": 9,
   "id": "27a7e5cd-809d-4cc9-b9a0-23695ec01feb",
   "metadata": {},
   "outputs": [],
   "source": [
    "from classiq import Output, QBit, QNum, allocate\n",
    "\n",
    "\n",
    "@qfunc\n",
    "def main(indicator: Output[QBit]):\n",
    "\n",
    "    x = QNum(\"x\")\n",
    "    allocate(4, x)\n",
    "    flip_lsb(x)\n",
    "\n",
    "    indicator |= x == 1"
   ]
  },
  {
   "cell_type": "code",
   "execution_count": 10,
   "id": "0dca7450-7de5-4829-997f-89f0e656de5e",
   "metadata": {},
   "outputs": [
    {
     "name": "stdout",
     "output_type": "stream",
     "text": [
      "Opening: https://platform.classiq.io/circuit/be93a9c6-d7e1-4dc6-8da3-cc8bc0035793?version=0.42.2\n"
     ]
    }
   ],
   "source": [
    "from classiq import create_model, show, synthesize\n",
    "\n",
    "quantum_program = synthesize(create_model(main))\n",
    "show(quantum_program)"
   ]
  },
  {
   "cell_type": "code",
   "execution_count": 11,
   "id": "b86bf0fc-2e53-4bf0-b2d6-2fd4453c5015",
   "metadata": {},
   "outputs": [
    {
     "name": "stdout",
     "output_type": "stream",
     "text": [
      "[{'indicator': 1.0}: 2048]\n"
     ]
    }
   ],
   "source": [
    "from classiq import execute\n",
    "\n",
    "job = execute(quantum_program)\n",
    "results = job.result()[0].value.parsed_counts\n",
    "print(results)"
   ]
  }
 ],
 "metadata": {
  "kernelspec": {
   "display_name": "Python 3 (ipykernel)",
   "language": "python",
   "name": "python3"
  },
  "language_info": {
   "codemirror_mode": {
    "name": "ipython",
    "version": 3
   },
   "file_extension": ".py",
   "mimetype": "text/x-python",
   "name": "python",
   "nbconvert_exporter": "python",
   "pygments_lexer": "ipython3",
   "version": "3.11.7"
  }
 },
 "nbformat": 4,
 "nbformat_minor": 5
}
