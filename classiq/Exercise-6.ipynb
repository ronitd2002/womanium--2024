{
 "cells": [
  {
   "cell_type": "markdown",
   "id": "0f2087b8-f3a3-4fed-902a-05560386abf6",
   "metadata": {},
   "source": [
    "# TASK A"
   ]
  },
  {
   "cell_type": "code",
   "execution_count": 1,
   "id": "7c817d6e-beca-4ae2-a926-fe64044d100c",
   "metadata": {},
   "outputs": [],
   "source": [
    "from classiq import *\n",
    "\n",
    "\n",
    "@qfunc\n",
    "def main(cntrl: Output[QArray[QBit]], target: Output[QBit]) -> None:\n",
    "    allocate(5, cntrl)\n",
    "    allocate(1, target)\n",
    "    control(ctrl=cntrl, operand=lambda: X(target))"
   ]
  },
  {
   "cell_type": "code",
   "execution_count": 2,
   "id": "e5f9516a-66e5-4618-9fa8-4f6b3e879165",
   "metadata": {},
   "outputs": [],
   "source": [
    "qmod = create_model(main)"
   ]
  },
  {
   "cell_type": "code",
   "execution_count": 3,
   "id": "bca76d9f-c6f1-433d-9198-fcb45ae96c0f",
   "metadata": {},
   "outputs": [],
   "source": [
    "write_qmod(qmod, \"mcx_example\")\n",
    "qprog = synthesize(qmod)"
   ]
  },
  {
   "cell_type": "code",
   "execution_count": 4,
   "id": "86816655-62be-4b40-a3d9-c4b7c9441a93",
   "metadata": {},
   "outputs": [],
   "source": [
    "qmod_depth = set_constraints(\n",
    "    qmod, Constraints(optimization_parameter=\"depth\")\n",
    ")"
   ]
  },
  {
   "cell_type": "code",
   "execution_count": 5,
   "id": "0b857ac1-90a5-40c6-ab78-ad8e99b2ae2c",
   "metadata": {},
   "outputs": [],
   "source": [
    "qmod_width = set_constraints(\n",
    "    qmod, Constraints(optimization_parameter=\"width\")\n",
    ")"
   ]
  },
  {
   "cell_type": "code",
   "execution_count": 6,
   "id": "e3c715d0-9355-4497-a4f7-26f12843c3f6",
   "metadata": {},
   "outputs": [],
   "source": [
    "qmod_mix = set_constraints(\n",
    "    qmod, Constraints(optimization_parameter=\"width\", max_width=50, max_depth=500)\n",
    ")"
   ]
  },
  {
   "cell_type": "code",
   "execution_count": 7,
   "id": "3ee7b9ac-3688-4ea6-a85e-09fa49b32e1e",
   "metadata": {},
   "outputs": [],
   "source": [
    "qprog_width = synthesize(qmod_width)\n",
    "qprog_depth = synthesize(qmod_depth)\n",
    "qprog_mix = synthesize(qmod_mix)"
   ]
  },
  {
   "cell_type": "markdown",
   "id": "167ad24e-fb96-4b1f-ba2d-30fe66297e8d",
   "metadata": {},
   "source": [
    "# TASK B"
   ]
  },
  {
   "cell_type": "code",
   "execution_count": 8,
   "id": "2bbd9c7a-1157-4c13-b1ab-3c4a633e6285",
   "metadata": {},
   "outputs": [],
   "source": [
    "from classiq import *\n",
    "\n",
    "\n",
    "@qfunc\n",
    "def main(cntrl: Output[QArray[QBit]], target: Output[QBit]) -> None:\n",
    "    allocate(20, cntrl)\n",
    "    allocate(1, target)\n",
    "    control(ctrl=cntrl, operand=lambda: X(target))"
   ]
  },
  {
   "cell_type": "code",
   "execution_count": 9,
   "id": "dd90882e-7383-43cc-8b1f-6e40c0f1d573",
   "metadata": {},
   "outputs": [],
   "source": [
    "mcx_model = create_model(main)\n",
    "mcx_mix = set_constraints(\n",
    "    mcx_model, Constraints(optimization_parameter=\"width\", max_width=50, max_depth=500)\n",
    ")"
   ]
  },
  {
   "cell_type": "code",
   "execution_count": 10,
   "id": "05004534-c530-47df-b92a-26f68762984b",
   "metadata": {},
   "outputs": [],
   "source": [
    "program1 = synthesize(mcx_model)\n",
    "program2 = synthesize(mcx_mix)"
   ]
  },
  {
   "cell_type": "code",
   "execution_count": null,
   "id": "fd98984a-bb9b-46d1-8e6b-a5e37e21b605",
   "metadata": {},
   "outputs": [],
   "source": []
  }
 ],
 "metadata": {
  "kernelspec": {
   "display_name": "Python 3 (ipykernel)",
   "language": "python",
   "name": "python3"
  },
  "language_info": {
   "codemirror_mode": {
    "name": "ipython",
    "version": 3
   },
   "file_extension": ".py",
   "mimetype": "text/x-python",
   "name": "python",
   "nbconvert_exporter": "python",
   "pygments_lexer": "ipython3",
   "version": "3.11.5"
  },
  "widgets": {
   "application/vnd.jupyter.widget-state+json": {
    "state": {},
    "version_major": 2,
    "version_minor": 0
   }
  }
 },
 "nbformat": 4,
 "nbformat_minor": 5
}
