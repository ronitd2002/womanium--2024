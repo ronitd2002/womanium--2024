{
 "cells": [
  {
   "cell_type": "code",
   "execution_count": 1,
   "id": "6daa5a96",
   "metadata": {},
   "outputs": [],
   "source": [
    "import pennylane as qml\n",
    "import pennylane.numpy as np\n",
    "import matplotlib.pyplot as plt\n",
    "%matplotlib inline\n",
    "plt.style.use('classic')"
   ]
  },
  {
   "cell_type": "markdown",
   "id": "5c2f81d4",
   "metadata": {},
   "source": [
    "## Exercise 1"
   ]
  },
  {
   "cell_type": "code",
   "execution_count": 2,
   "id": "2cecfd1c",
   "metadata": {},
   "outputs": [
    {
     "name": "stdout",
     "output_type": "stream",
     "text": [
      "[0.5 0.5]\n",
      "[0.5 0.5]\n"
     ]
    }
   ],
   "source": [
    "dev = qml.device(\"default.qubit\", wires=1)\n",
    "\n",
    "@qml.qnode(dev)\n",
    "def apply_h_and_measure(state):\n",
    "    \"\"\"Complete the function such that we apply the Hadamard gate\n",
    "    and measure in the computational basis.\n",
    "    \n",
    "    Args:\n",
    "        state (int): Either 0 or 1. If 1, prepare the qubit in state |1>,\n",
    "            otherwise leave it in state 0.\n",
    "    \n",
    "    Returns:\n",
    "        array[float]: The measurement outcome probabilities.\n",
    "    \"\"\"\n",
    "    if state == 1:\n",
    "        qml.PauliX(wires=0)\n",
    "\n",
    "    ##################\n",
    "    # YOUR CODE HERE #\n",
    "    ##################\n",
    "\n",
    "    # APPLY HADAMARD AND MEASURE\n",
    "    qml.Hadamard(0)\n",
    "    return qml.probs(0)\n",
    "\n",
    "print(apply_h_and_measure(0))\n",
    "print(apply_h_and_measure(1))\n"
   ]
  },
  {
   "cell_type": "markdown",
   "id": "6e9961ec",
   "metadata": {},
   "source": [
    "## Exercise 2"
   ]
  },
  {
   "cell_type": "code",
   "execution_count": 3,
   "id": "fdd459af",
   "metadata": {},
   "outputs": [],
   "source": [
    "##################\n",
    "# YOUR CODE HERE #\n",
    "##################\n",
    "\n",
    "# WRITE A QUANTUM FUNCTION THAT PREPARES (1/2)|0> + i(sqrt(3)/2)|1>\n",
    "def prepare_psi():\n",
    "    qml.RY(2*np.pi/3,0)\n",
    "    qml.S(0)\n",
    "\n",
    "\n",
    "# WRITE A QUANTUM FUNCTION THAT SENDS BOTH |0> TO |y_+> and |1> TO |y_->\n",
    "def y_basis_rotation():\n",
    "    qml.Hadamard(0)\n",
    "    qml.S(0)"
   ]
  },
  {
   "cell_type": "markdown",
   "id": "30ed10f0",
   "metadata": {},
   "source": [
    "## Exercise 3"
   ]
  },
  {
   "cell_type": "code",
   "execution_count": 4,
   "id": "f60d95d1",
   "metadata": {},
   "outputs": [
    {
     "name": "stdout",
     "output_type": "stream",
     "text": [
      "[0.9330127 0.0669873]\n"
     ]
    }
   ],
   "source": [
    "dev = qml.device(\"default.qubit\", wires=1)\n",
    "\n",
    "@qml.qnode(dev)\n",
    "def measure_in_y_basis():\n",
    "    ##################\n",
    "    # YOUR CODE HERE #\n",
    "    ##################\n",
    "    \n",
    "    # PREPARE THE STATE\n",
    "    prepare_psi()\n",
    "    # PERFORM THE ROTATION BACK TO COMPUTATIONAL BASIS\n",
    "    qml.adjoint(y_basis_rotation)()\n",
    "    # RETURN THE MEASUREMENT OUTCOME PROBABILITIES\n",
    "\n",
    "    return qml.probs(0)\n",
    "\n",
    "print(measure_in_y_basis())"
   ]
  }
 ],
 "metadata": {
  "kernelspec": {
   "display_name": "Python 3 (ipykernel)",
   "language": "python",
   "name": "python3"
  },
  "language_info": {
   "codemirror_mode": {
    "name": "ipython",
    "version": 3
   },
   "file_extension": ".py",
   "mimetype": "text/x-python",
   "name": "python",
   "nbconvert_exporter": "python",
   "pygments_lexer": "ipython3",
   "version": "3.12.3"
  }
 },
 "nbformat": 4,
 "nbformat_minor": 5
}
