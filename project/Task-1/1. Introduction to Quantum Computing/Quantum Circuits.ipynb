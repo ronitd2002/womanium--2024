{
 "cells": [
  {
   "cell_type": "code",
   "execution_count": 14,
   "id": "879782c3",
   "metadata": {
    "scrolled": true
   },
   "outputs": [],
   "source": [
    "import pennylane as qml\n",
    "import numpy as np"
   ]
  },
  {
   "cell_type": "markdown",
   "id": "2c5fca7d",
   "metadata": {},
   "source": [
    "### Codercise I.2.1 - Order of Operations"
   ]
  },
  {
   "cell_type": "code",
   "execution_count": null,
   "id": "efd09d29",
   "metadata": {},
   "outputs": [],
   "source": [
    "def my_circuit(theta, phi):\n",
    "\n",
    "    qml.CNOT(wires=[0, 1])\n",
    "    qml.RX(theta, wires=2)\n",
    "    qml.Hadamard(wires=0)\n",
    "    qml.CNOT(wires=[2, 0])\n",
    "    qml.RY(phi, wires=1)\n",
    "\n",
    "    # This is the measurement; we return the probabilities of all possible output states\n",
    "    return qml.probs(wires=[0, 1, 2])"
   ]
  },
  {
   "cell_type": "markdown",
   "id": "d10b04a3",
   "metadata": {},
   "source": [
    "### Codercise I.2.2 - Building a QNode"
   ]
  },
  {
   "cell_type": "code",
   "execution_count": null,
   "id": "2dbddd34",
   "metadata": {},
   "outputs": [],
   "source": [
    "# This creates a device with three wires on which PennyLane can run computations\n",
    "dev = qml.device(\"default.qubit\", wires=3)\n",
    "\n",
    "\n",
    "def my_circuit(theta, phi, omega):\n",
    "\n",
    "    qml.RX(theta, wires=0)\n",
    "    qml.RY(phi, wires=1)\n",
    "    qml.RZ(omega, wires=2)\n",
    "    qml.CNOT(wires=[0,1])\n",
    "    qml.CNOT(wires=[1,2])\n",
    "    qml.CNOT(wires=[2,0])\n",
    "\n",
    "    return qml.probs(wires=[0, 1, 2])\n",
    "\n",
    "\n",
    "# This creates a QNode, binding the function and device\n",
    "my_qnode = qml.QNode(my_circuit, dev)\n",
    "\n",
    "# We set up some values for the input parameters\n",
    "theta, phi, omega = 0.1, 0.2, 0.3\n",
    "\n",
    "# Now we can execute the QNode by calling it like we would a regular function\n",
    "my_qnode(theta, phi, omega)"
   ]
  },
  {
   "cell_type": "markdown",
   "id": "ac9a2231",
   "metadata": {},
   "source": [
    "### Codercise I.2.3 - The QNode Decorator"
   ]
  },
  {
   "cell_type": "code",
   "execution_count": null,
   "id": "d16885f7",
   "metadata": {},
   "outputs": [],
   "source": [
    "dev = qml.device(\"default.qubit\", wires=3)\n",
    "\n",
    "@qml.qnode(dev)\n",
    "def my_circuit(theta, phi, omega):\n",
    "    qml.RX(theta, wires=0)\n",
    "    qml.RY(phi, wires=1)\n",
    "    qml.RZ(omega, wires=2)\n",
    "    qml.CNOT(wires=[0, 1])\n",
    "    qml.CNOT(wires=[1, 2])\n",
    "    qml.CNOT(wires=[2, 0])\n",
    "    return qml.probs(wires=[0, 1, 2])\n",
    "\n",
    "\n",
    "theta, phi, omega = 0.1, 0.2, 0.3\n",
    "\n",
    "my_circuit(theta, phi, omega)"
   ]
  },
  {
   "cell_type": "markdown",
   "id": "c70d0125",
   "metadata": {},
   "source": [
    "### Codercise I.2.4 - Circuit Depth"
   ]
  },
  {
   "cell_type": "code",
   "execution_count": 40,
   "id": "a80bb75d-112f-434c-9eca-71f9a5bcefe8",
   "metadata": {},
   "outputs": [
    {
     "name": "stdout",
     "output_type": "stream",
     "text": [
      "0: ──RX(1.57)─╭●────╭X─┤ ╭Probs\n",
      "1: ──RY(1.57)─╰X─╭●─│──┤ ├Probs\n",
      "2: ──RZ(1.57)────╰X─╰●─┤ ╰Probs\n"
     ]
    }
   ],
   "source": [
    "dev = qml.device(\"default.qubit\", wires=3)\n",
    "\n",
    "@qml.qnode(dev)\n",
    "def my_circuit(theta, phi, omega):\n",
    "    qml.RX(theta, wires=0)\n",
    "    qml.RY(phi, wires=1)\n",
    "    qml.RZ(omega, wires=2)\n",
    "    qml.CNOT(wires=[0, 1])\n",
    "    qml.CNOT(wires=[1, 2])\n",
    "    qml.CNOT(wires=[2, 0])\n",
    "    return qml.probs(wires=[0, 1, 2])\n",
    "\n",
    "print(qml.draw(my_circuit)(np.pi/2, np.pi/2, np.pi/2))"
   ]
  },
  {
   "cell_type": "markdown",
   "id": "4e526e0c",
   "metadata": {},
   "source": [
    "The depth of the given circuit is 4.\n",
    "* The first layer comprises of the $R_x(\\theta)$, $R_y(\\phi)$, and $R_z(\\omega)$ gates\n",
    "* The second layer comprises of the CNOT gate applied on wires [0,1]\n",
    "* The third layer comprises of the CNOT gate applied on wires [1,2]\n",
    "* And the fourth layer comprises of the CNOT gate applied on wires [2.0]  \n",
    "\n",
    "The measurements are not included in circuit depth"
   ]
  }
 ],
 "metadata": {
  "kernelspec": {
   "display_name": "Python 3 (ipykernel)",
   "language": "python",
   "name": "python3"
  },
  "language_info": {
   "codemirror_mode": {
    "name": "ipython",
    "version": 3
   },
   "file_extension": ".py",
   "mimetype": "text/x-python",
   "name": "python",
   "nbconvert_exporter": "python",
   "pygments_lexer": "ipython3",
   "version": "3.12.3"
  }
 },
 "nbformat": 4,
 "nbformat_minor": 5
}
