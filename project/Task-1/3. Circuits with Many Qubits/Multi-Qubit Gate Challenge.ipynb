{
 "cells": [
  {
   "cell_type": "code",
   "execution_count": 1,
   "id": "3bee10a3-fee7-47f9-9936-0576b6dd1121",
   "metadata": {},
   "outputs": [],
   "source": [
    "import pennylane as qml\n",
    "import pennylane.numpy as np\n",
    "import matplotlib.pyplot as plt\n",
    "%matplotlib inline\n",
    "plt.style.use('classic')"
   ]
  },
  {
   "cell_type": "markdown",
   "id": "92b799d5-c4b2-4055-9c5e-c2efffb5d7c8",
   "metadata": {},
   "source": [
    "#### Codercise I.14.1 - The Bell States"
   ]
  },
  {
   "cell_type": "code",
   "execution_count": 2,
   "id": "0820ddbe-76ee-4b1d-95b0-436304569f85",
   "metadata": {},
   "outputs": [
    {
     "name": "stdout",
     "output_type": "stream",
     "text": [
      "|ψ_+> = [0.70710678+0.j 0.        +0.j 0.        +0.j 0.70710678+0.j]\n",
      "|ψ_-> = [ 0.70710678+0.j  0.        +0.j  0.        +0.j -0.70710678+0.j]\n",
      "|ϕ_+> = [0.        +0.j 0.70710678+0.j 0.70710678+0.j 0.        +0.j]\n",
      "|ϕ_-> = [ 0.        +0.j  0.70710678+0.j -0.70710678+0.j  0.        +0.j]\n"
     ]
    }
   ],
   "source": [
    "dev = qml.device(\"default.qubit\", wires=2)\n",
    "\n",
    "# Starting from the state |00>, implement a PennyLane circuit\n",
    "# to construct each of the Bell basis states.\n",
    "\n",
    "\n",
    "@qml.qnode(dev)\n",
    "def prepare_psi_plus():\n",
    "\n",
    "    qml.Hadamard(0)\n",
    "    qml.CNOT([0,1])\n",
    "\n",
    "    return qml.state()\n",
    "\n",
    "\n",
    "@qml.qnode(dev)\n",
    "def prepare_psi_minus():\n",
    "    \n",
    "    qml.X(0)\n",
    "    qml.Hadamard(0)\n",
    "    qml.CNOT([0,1])\n",
    "\n",
    "    return qml.state()\n",
    "\n",
    "\n",
    "@qml.qnode(dev)\n",
    "def prepare_phi_plus():\n",
    "    \n",
    "    qml.Hadamard(0)\n",
    "    qml.CNOT([0,1])\n",
    "    qml.X(1)\n",
    "\n",
    "    return qml.state()\n",
    "\n",
    "\n",
    "@qml.qnode(dev)\n",
    "def prepare_phi_minus():\n",
    "    \n",
    "    qml.Hadamard(0)\n",
    "    qml.CNOT([0,1])\n",
    "    qml.X(1)\n",
    "    qml.Z(0)\n",
    "\n",
    "    # PREPARE  (1/sqrt(2)) (|01> - |10>)\n",
    "\n",
    "    return qml.state()\n",
    "\n",
    "\n",
    "psi_plus = prepare_psi_plus()\n",
    "psi_minus = prepare_psi_minus()\n",
    "phi_plus = prepare_phi_plus()\n",
    "phi_minus = prepare_phi_minus()\n",
    "\n",
    "print(f\"|ψ_+> = {psi_plus}\")\n",
    "print(f\"|ψ_-> = {psi_minus}\")\n",
    "print(f\"|ϕ_+> = {phi_plus}\")\n",
    "print(f\"|ϕ_-> = {phi_minus}\")\n"
   ]
  },
  {
   "cell_type": "markdown",
   "id": "544e0d2d-bb26-4d9a-ba22-22fe7034932e",
   "metadata": {},
   "source": [
    "#### Codercise I.14.2 - Quantum Multiplexer"
   ]
  },
  {
   "cell_type": "code",
   "execution_count": 3,
   "id": "73ce4a22-2851-4ed5-bcb4-e0bf42c3b9e6",
   "metadata": {},
   "outputs": [
    {
     "name": "stdout",
     "output_type": "stream",
     "text": [
      "[0.        +0.j 0.        +0.j 0.        +0.j 0.        +0.j\n",
      " 0.        +0.j 0.        +0.j 0.70710678+0.j 0.70710678+0.j]\n"
     ]
    }
   ],
   "source": [
    "dev = qml.device(\"default.qubit\", wires=3)\n",
    "\n",
    "# State of first 2 qubits\n",
    "state = [1, 1]\n",
    "\n",
    "@qml.qnode(device=dev)\n",
    "def apply_control_sequence(state):\n",
    "    # Set up initial state of the first two qubits\n",
    "    if state[0] == 1:\n",
    "        qml.PauliX(wires=0)\n",
    "    if state[1] == 1:\n",
    "        qml.PauliX(wires=1)\n",
    "\n",
    "    # Set up initial state of the third qubit - use |->\n",
    "    # so we can see the effect on the output\n",
    "    qml.PauliX(wires=2)\n",
    "    qml.Hadamard(wires=2)\n",
    "\n",
    "    # IMPLEMENT THE MULTIPLEXER\n",
    "    # IF STATE OF FIRST TWO QUBITS IS 01, APPLY X TO THIRD QUBIT\n",
    "    qml.X(0)\n",
    "    qml.Toffoli([0,1,2])\n",
    "    qml.X(0)\n",
    "\n",
    "    # IF STATE OF FIRST TWO QUBITS IS 10, APPLY Z TO THIRD QUBIT\n",
    "    qml.X(1)\n",
    "    qml.Hadamard(2)\n",
    "    qml.Toffoli([0,1,2])\n",
    "    qml.Hadamard(2)\n",
    "    qml.X(1)\n",
    "\n",
    "    # IF STATE OF FIRST TWO QUBITS IS 11, APPLY Y TO THIRD QUBIT\n",
    "    qml.Hadamard(2)\n",
    "    qml.Toffoli([0,1,2])\n",
    "    qml.Hadamard(2)\n",
    "    qml.Toffoli([0,1,2])\n",
    "\n",
    "    return qml.state()\n",
    "\n",
    "print(apply_control_sequence(state))"
   ]
  },
  {
   "cell_type": "code",
   "execution_count": null,
   "id": "c942de57",
   "metadata": {},
   "outputs": [],
   "source": []
  }
 ],
 "metadata": {
  "kernelspec": {
   "display_name": "Python 3 (ipykernel)",
   "language": "python",
   "name": "python3"
  },
  "language_info": {
   "codemirror_mode": {
    "name": "ipython",
    "version": 3
   },
   "file_extension": ".py",
   "mimetype": "text/x-python",
   "name": "python",
   "nbconvert_exporter": "python",
   "pygments_lexer": "ipython3",
   "version": "3.12.3"
  }
 },
 "nbformat": 4,
 "nbformat_minor": 5
}
